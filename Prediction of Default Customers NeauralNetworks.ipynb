{
 "cells": [
  {
   "cell_type": "code",
   "execution_count": 1,
   "id": "60290247",
   "metadata": {},
   "outputs": [],
   "source": [
    "import pandas as pd\n",
    "import numpy as np"
   ]
  },
  {
   "cell_type": "code",
   "execution_count": 2,
   "id": "859b85cc",
   "metadata": {},
   "outputs": [],
   "source": [
    "df1=pd.read_excel(\"D:\\Aegis PG\\DL\\GiveMeSomeCredit\\Data Dictionary.xls\")"
   ]
  },
  {
   "cell_type": "code",
   "execution_count": 3,
   "id": "1e6e0e35",
   "metadata": {},
   "outputs": [
    {
     "data": {
      "text/html": [
       "<div>\n",
       "<style scoped>\n",
       "    .dataframe tbody tr th:only-of-type {\n",
       "        vertical-align: middle;\n",
       "    }\n",
       "\n",
       "    .dataframe tbody tr th {\n",
       "        vertical-align: top;\n",
       "    }\n",
       "\n",
       "    .dataframe thead th {\n",
       "        text-align: right;\n",
       "    }\n",
       "</style>\n",
       "<table border=\"1\" class=\"dataframe\">\n",
       "  <thead>\n",
       "    <tr style=\"text-align: right;\">\n",
       "      <th></th>\n",
       "      <th>Unnamed: 0</th>\n",
       "      <th>Unnamed: 1</th>\n",
       "      <th>Unnamed: 2</th>\n",
       "    </tr>\n",
       "  </thead>\n",
       "  <tbody>\n",
       "    <tr>\n",
       "      <th>0</th>\n",
       "      <td>Variable Name</td>\n",
       "      <td>Description</td>\n",
       "      <td>Type</td>\n",
       "    </tr>\n",
       "    <tr>\n",
       "      <th>1</th>\n",
       "      <td>SeriousDlqin2yrs</td>\n",
       "      <td>Person experienced 90 days past due delinquenc...</td>\n",
       "      <td>Y/N</td>\n",
       "    </tr>\n",
       "    <tr>\n",
       "      <th>2</th>\n",
       "      <td>RevolvingUtilizationOfUnsecuredLines</td>\n",
       "      <td>Total balance on credit cards and personal lin...</td>\n",
       "      <td>percentage</td>\n",
       "    </tr>\n",
       "    <tr>\n",
       "      <th>3</th>\n",
       "      <td>age</td>\n",
       "      <td>Age of borrower in years</td>\n",
       "      <td>integer</td>\n",
       "    </tr>\n",
       "    <tr>\n",
       "      <th>4</th>\n",
       "      <td>NumberOfTime30-59DaysPastDueNotWorse</td>\n",
       "      <td>Number of times borrower has been 30-59 days p...</td>\n",
       "      <td>integer</td>\n",
       "    </tr>\n",
       "    <tr>\n",
       "      <th>5</th>\n",
       "      <td>DebtRatio</td>\n",
       "      <td>Monthly debt payments, alimony,living costs di...</td>\n",
       "      <td>percentage</td>\n",
       "    </tr>\n",
       "    <tr>\n",
       "      <th>6</th>\n",
       "      <td>MonthlyIncome</td>\n",
       "      <td>Monthly income</td>\n",
       "      <td>real</td>\n",
       "    </tr>\n",
       "    <tr>\n",
       "      <th>7</th>\n",
       "      <td>NumberOfOpenCreditLinesAndLoans</td>\n",
       "      <td>Number of Open loans (installment like car loa...</td>\n",
       "      <td>integer</td>\n",
       "    </tr>\n",
       "    <tr>\n",
       "      <th>8</th>\n",
       "      <td>NumberOfTimes90DaysLate</td>\n",
       "      <td>Number of times borrower has been 90 days or m...</td>\n",
       "      <td>integer</td>\n",
       "    </tr>\n",
       "    <tr>\n",
       "      <th>9</th>\n",
       "      <td>NumberRealEstateLoansOrLines</td>\n",
       "      <td>Number of mortgage and real estate loans inclu...</td>\n",
       "      <td>integer</td>\n",
       "    </tr>\n",
       "    <tr>\n",
       "      <th>10</th>\n",
       "      <td>NumberOfTime60-89DaysPastDueNotWorse</td>\n",
       "      <td>Number of times borrower has been 60-89 days p...</td>\n",
       "      <td>integer</td>\n",
       "    </tr>\n",
       "    <tr>\n",
       "      <th>11</th>\n",
       "      <td>NumberOfDependents</td>\n",
       "      <td>Number of dependents in family excluding thems...</td>\n",
       "      <td>integer</td>\n",
       "    </tr>\n",
       "  </tbody>\n",
       "</table>\n",
       "</div>"
      ],
      "text/plain": [
       "                              Unnamed: 0  \\\n",
       "0                          Variable Name   \n",
       "1                       SeriousDlqin2yrs   \n",
       "2   RevolvingUtilizationOfUnsecuredLines   \n",
       "3                                    age   \n",
       "4   NumberOfTime30-59DaysPastDueNotWorse   \n",
       "5                              DebtRatio   \n",
       "6                          MonthlyIncome   \n",
       "7        NumberOfOpenCreditLinesAndLoans   \n",
       "8                NumberOfTimes90DaysLate   \n",
       "9           NumberRealEstateLoansOrLines   \n",
       "10  NumberOfTime60-89DaysPastDueNotWorse   \n",
       "11                    NumberOfDependents   \n",
       "\n",
       "                                           Unnamed: 1  Unnamed: 2  \n",
       "0                                         Description        Type  \n",
       "1   Person experienced 90 days past due delinquenc...         Y/N  \n",
       "2   Total balance on credit cards and personal lin...  percentage  \n",
       "3                            Age of borrower in years     integer  \n",
       "4   Number of times borrower has been 30-59 days p...     integer  \n",
       "5   Monthly debt payments, alimony,living costs di...  percentage  \n",
       "6                                      Monthly income        real  \n",
       "7   Number of Open loans (installment like car loa...     integer  \n",
       "8   Number of times borrower has been 90 days or m...     integer  \n",
       "9   Number of mortgage and real estate loans inclu...     integer  \n",
       "10  Number of times borrower has been 60-89 days p...     integer  \n",
       "11  Number of dependents in family excluding thems...     integer  "
      ]
     },
     "execution_count": 3,
     "metadata": {},
     "output_type": "execute_result"
    }
   ],
   "source": [
    "df1"
   ]
  },
  {
   "cell_type": "code",
   "execution_count": 4,
   "id": "6d08cd99",
   "metadata": {},
   "outputs": [],
   "source": [
    "df2=pd.read_csv(\"D:\\Aegis PG\\DL\\GiveMeSomeCredit\\cs-training.csv\")"
   ]
  },
  {
   "cell_type": "code",
   "execution_count": 5,
   "id": "f380937d",
   "metadata": {},
   "outputs": [
    {
     "data": {
      "text/html": [
       "<div>\n",
       "<style scoped>\n",
       "    .dataframe tbody tr th:only-of-type {\n",
       "        vertical-align: middle;\n",
       "    }\n",
       "\n",
       "    .dataframe tbody tr th {\n",
       "        vertical-align: top;\n",
       "    }\n",
       "\n",
       "    .dataframe thead th {\n",
       "        text-align: right;\n",
       "    }\n",
       "</style>\n",
       "<table border=\"1\" class=\"dataframe\">\n",
       "  <thead>\n",
       "    <tr style=\"text-align: right;\">\n",
       "      <th></th>\n",
       "      <th>Unnamed: 0</th>\n",
       "      <th>SeriousDlqin2yrs</th>\n",
       "      <th>RevolvingUtilizationOfUnsecuredLines</th>\n",
       "      <th>age</th>\n",
       "      <th>NumberOfTime30-59DaysPastDueNotWorse</th>\n",
       "      <th>DebtRatio</th>\n",
       "      <th>MonthlyIncome</th>\n",
       "      <th>NumberOfOpenCreditLinesAndLoans</th>\n",
       "      <th>NumberOfTimes90DaysLate</th>\n",
       "      <th>NumberRealEstateLoansOrLines</th>\n",
       "      <th>NumberOfTime60-89DaysPastDueNotWorse</th>\n",
       "      <th>NumberOfDependents</th>\n",
       "    </tr>\n",
       "  </thead>\n",
       "  <tbody>\n",
       "    <tr>\n",
       "      <th>0</th>\n",
       "      <td>1</td>\n",
       "      <td>1</td>\n",
       "      <td>0.766127</td>\n",
       "      <td>45</td>\n",
       "      <td>2</td>\n",
       "      <td>0.802982</td>\n",
       "      <td>9120.0</td>\n",
       "      <td>13</td>\n",
       "      <td>0</td>\n",
       "      <td>6</td>\n",
       "      <td>0</td>\n",
       "      <td>2.0</td>\n",
       "    </tr>\n",
       "    <tr>\n",
       "      <th>1</th>\n",
       "      <td>2</td>\n",
       "      <td>0</td>\n",
       "      <td>0.957151</td>\n",
       "      <td>40</td>\n",
       "      <td>0</td>\n",
       "      <td>0.121876</td>\n",
       "      <td>2600.0</td>\n",
       "      <td>4</td>\n",
       "      <td>0</td>\n",
       "      <td>0</td>\n",
       "      <td>0</td>\n",
       "      <td>1.0</td>\n",
       "    </tr>\n",
       "    <tr>\n",
       "      <th>2</th>\n",
       "      <td>3</td>\n",
       "      <td>0</td>\n",
       "      <td>0.658180</td>\n",
       "      <td>38</td>\n",
       "      <td>1</td>\n",
       "      <td>0.085113</td>\n",
       "      <td>3042.0</td>\n",
       "      <td>2</td>\n",
       "      <td>1</td>\n",
       "      <td>0</td>\n",
       "      <td>0</td>\n",
       "      <td>0.0</td>\n",
       "    </tr>\n",
       "    <tr>\n",
       "      <th>3</th>\n",
       "      <td>4</td>\n",
       "      <td>0</td>\n",
       "      <td>0.233810</td>\n",
       "      <td>30</td>\n",
       "      <td>0</td>\n",
       "      <td>0.036050</td>\n",
       "      <td>3300.0</td>\n",
       "      <td>5</td>\n",
       "      <td>0</td>\n",
       "      <td>0</td>\n",
       "      <td>0</td>\n",
       "      <td>0.0</td>\n",
       "    </tr>\n",
       "    <tr>\n",
       "      <th>4</th>\n",
       "      <td>5</td>\n",
       "      <td>0</td>\n",
       "      <td>0.907239</td>\n",
       "      <td>49</td>\n",
       "      <td>1</td>\n",
       "      <td>0.024926</td>\n",
       "      <td>63588.0</td>\n",
       "      <td>7</td>\n",
       "      <td>0</td>\n",
       "      <td>1</td>\n",
       "      <td>0</td>\n",
       "      <td>0.0</td>\n",
       "    </tr>\n",
       "    <tr>\n",
       "      <th>...</th>\n",
       "      <td>...</td>\n",
       "      <td>...</td>\n",
       "      <td>...</td>\n",
       "      <td>...</td>\n",
       "      <td>...</td>\n",
       "      <td>...</td>\n",
       "      <td>...</td>\n",
       "      <td>...</td>\n",
       "      <td>...</td>\n",
       "      <td>...</td>\n",
       "      <td>...</td>\n",
       "      <td>...</td>\n",
       "    </tr>\n",
       "    <tr>\n",
       "      <th>149995</th>\n",
       "      <td>149996</td>\n",
       "      <td>0</td>\n",
       "      <td>0.040674</td>\n",
       "      <td>74</td>\n",
       "      <td>0</td>\n",
       "      <td>0.225131</td>\n",
       "      <td>2100.0</td>\n",
       "      <td>4</td>\n",
       "      <td>0</td>\n",
       "      <td>1</td>\n",
       "      <td>0</td>\n",
       "      <td>0.0</td>\n",
       "    </tr>\n",
       "    <tr>\n",
       "      <th>149996</th>\n",
       "      <td>149997</td>\n",
       "      <td>0</td>\n",
       "      <td>0.299745</td>\n",
       "      <td>44</td>\n",
       "      <td>0</td>\n",
       "      <td>0.716562</td>\n",
       "      <td>5584.0</td>\n",
       "      <td>4</td>\n",
       "      <td>0</td>\n",
       "      <td>1</td>\n",
       "      <td>0</td>\n",
       "      <td>2.0</td>\n",
       "    </tr>\n",
       "    <tr>\n",
       "      <th>149997</th>\n",
       "      <td>149998</td>\n",
       "      <td>0</td>\n",
       "      <td>0.246044</td>\n",
       "      <td>58</td>\n",
       "      <td>0</td>\n",
       "      <td>3870.000000</td>\n",
       "      <td>NaN</td>\n",
       "      <td>18</td>\n",
       "      <td>0</td>\n",
       "      <td>1</td>\n",
       "      <td>0</td>\n",
       "      <td>0.0</td>\n",
       "    </tr>\n",
       "    <tr>\n",
       "      <th>149998</th>\n",
       "      <td>149999</td>\n",
       "      <td>0</td>\n",
       "      <td>0.000000</td>\n",
       "      <td>30</td>\n",
       "      <td>0</td>\n",
       "      <td>0.000000</td>\n",
       "      <td>5716.0</td>\n",
       "      <td>4</td>\n",
       "      <td>0</td>\n",
       "      <td>0</td>\n",
       "      <td>0</td>\n",
       "      <td>0.0</td>\n",
       "    </tr>\n",
       "    <tr>\n",
       "      <th>149999</th>\n",
       "      <td>150000</td>\n",
       "      <td>0</td>\n",
       "      <td>0.850283</td>\n",
       "      <td>64</td>\n",
       "      <td>0</td>\n",
       "      <td>0.249908</td>\n",
       "      <td>8158.0</td>\n",
       "      <td>8</td>\n",
       "      <td>0</td>\n",
       "      <td>2</td>\n",
       "      <td>0</td>\n",
       "      <td>0.0</td>\n",
       "    </tr>\n",
       "  </tbody>\n",
       "</table>\n",
       "<p>150000 rows × 12 columns</p>\n",
       "</div>"
      ],
      "text/plain": [
       "        Unnamed: 0  SeriousDlqin2yrs  RevolvingUtilizationOfUnsecuredLines  \\\n",
       "0                1                 1                              0.766127   \n",
       "1                2                 0                              0.957151   \n",
       "2                3                 0                              0.658180   \n",
       "3                4                 0                              0.233810   \n",
       "4                5                 0                              0.907239   \n",
       "...            ...               ...                                   ...   \n",
       "149995      149996                 0                              0.040674   \n",
       "149996      149997                 0                              0.299745   \n",
       "149997      149998                 0                              0.246044   \n",
       "149998      149999                 0                              0.000000   \n",
       "149999      150000                 0                              0.850283   \n",
       "\n",
       "        age  NumberOfTime30-59DaysPastDueNotWorse    DebtRatio  MonthlyIncome  \\\n",
       "0        45                                     2     0.802982         9120.0   \n",
       "1        40                                     0     0.121876         2600.0   \n",
       "2        38                                     1     0.085113         3042.0   \n",
       "3        30                                     0     0.036050         3300.0   \n",
       "4        49                                     1     0.024926        63588.0   \n",
       "...     ...                                   ...          ...            ...   \n",
       "149995   74                                     0     0.225131         2100.0   \n",
       "149996   44                                     0     0.716562         5584.0   \n",
       "149997   58                                     0  3870.000000            NaN   \n",
       "149998   30                                     0     0.000000         5716.0   \n",
       "149999   64                                     0     0.249908         8158.0   \n",
       "\n",
       "        NumberOfOpenCreditLinesAndLoans  NumberOfTimes90DaysLate  \\\n",
       "0                                    13                        0   \n",
       "1                                     4                        0   \n",
       "2                                     2                        1   \n",
       "3                                     5                        0   \n",
       "4                                     7                        0   \n",
       "...                                 ...                      ...   \n",
       "149995                                4                        0   \n",
       "149996                                4                        0   \n",
       "149997                               18                        0   \n",
       "149998                                4                        0   \n",
       "149999                                8                        0   \n",
       "\n",
       "        NumberRealEstateLoansOrLines  NumberOfTime60-89DaysPastDueNotWorse  \\\n",
       "0                                  6                                     0   \n",
       "1                                  0                                     0   \n",
       "2                                  0                                     0   \n",
       "3                                  0                                     0   \n",
       "4                                  1                                     0   \n",
       "...                              ...                                   ...   \n",
       "149995                             1                                     0   \n",
       "149996                             1                                     0   \n",
       "149997                             1                                     0   \n",
       "149998                             0                                     0   \n",
       "149999                             2                                     0   \n",
       "\n",
       "        NumberOfDependents  \n",
       "0                      2.0  \n",
       "1                      1.0  \n",
       "2                      0.0  \n",
       "3                      0.0  \n",
       "4                      0.0  \n",
       "...                    ...  \n",
       "149995                 0.0  \n",
       "149996                 2.0  \n",
       "149997                 0.0  \n",
       "149998                 0.0  \n",
       "149999                 0.0  \n",
       "\n",
       "[150000 rows x 12 columns]"
      ]
     },
     "execution_count": 5,
     "metadata": {},
     "output_type": "execute_result"
    }
   ],
   "source": [
    "df2"
   ]
  },
  {
   "cell_type": "code",
   "execution_count": 8,
   "id": "fe7bda76",
   "metadata": {},
   "outputs": [
    {
     "data": {
      "text/plain": [
       "0    139974\n",
       "1     10026\n",
       "Name: SeriousDlqin2yrs, dtype: int64"
      ]
     },
     "execution_count": 8,
     "metadata": {},
     "output_type": "execute_result"
    }
   ],
   "source": [
    "df2['SeriousDlqin2yrs'].value_counts()"
   ]
  },
  {
   "cell_type": "code",
   "execution_count": 9,
   "id": "44581271",
   "metadata": {},
   "outputs": [
    {
     "name": "stdout",
     "output_type": "stream",
     "text": [
      "<class 'pandas.core.frame.DataFrame'>\n",
      "RangeIndex: 150000 entries, 0 to 149999\n",
      "Data columns (total 12 columns):\n",
      " #   Column                                Non-Null Count   Dtype  \n",
      "---  ------                                --------------   -----  \n",
      " 0   Unnamed: 0                            150000 non-null  int64  \n",
      " 1   SeriousDlqin2yrs                      150000 non-null  int64  \n",
      " 2   RevolvingUtilizationOfUnsecuredLines  150000 non-null  float64\n",
      " 3   age                                   150000 non-null  int64  \n",
      " 4   NumberOfTime30-59DaysPastDueNotWorse  150000 non-null  int64  \n",
      " 5   DebtRatio                             150000 non-null  float64\n",
      " 6   MonthlyIncome                         120269 non-null  float64\n",
      " 7   NumberOfOpenCreditLinesAndLoans       150000 non-null  int64  \n",
      " 8   NumberOfTimes90DaysLate               150000 non-null  int64  \n",
      " 9   NumberRealEstateLoansOrLines          150000 non-null  int64  \n",
      " 10  NumberOfTime60-89DaysPastDueNotWorse  150000 non-null  int64  \n",
      " 11  NumberOfDependents                    146076 non-null  float64\n",
      "dtypes: float64(4), int64(8)\n",
      "memory usage: 13.7 MB\n"
     ]
    }
   ],
   "source": [
    "df2.info()"
   ]
  },
  {
   "cell_type": "code",
   "execution_count": 7,
   "id": "a8a5dbad",
   "metadata": {},
   "outputs": [],
   "source": [
    "df3 =pd.read_csv(\"D:\\Aegis PG\\DL\\GiveMeSomeCredit\\cs-test.csv\")"
   ]
  },
  {
   "cell_type": "code",
   "execution_count": 8,
   "id": "8a9ddc9a",
   "metadata": {},
   "outputs": [
    {
     "data": {
      "text/html": [
       "<div>\n",
       "<style scoped>\n",
       "    .dataframe tbody tr th:only-of-type {\n",
       "        vertical-align: middle;\n",
       "    }\n",
       "\n",
       "    .dataframe tbody tr th {\n",
       "        vertical-align: top;\n",
       "    }\n",
       "\n",
       "    .dataframe thead th {\n",
       "        text-align: right;\n",
       "    }\n",
       "</style>\n",
       "<table border=\"1\" class=\"dataframe\">\n",
       "  <thead>\n",
       "    <tr style=\"text-align: right;\">\n",
       "      <th></th>\n",
       "      <th>Unnamed: 0</th>\n",
       "      <th>SeriousDlqin2yrs</th>\n",
       "      <th>RevolvingUtilizationOfUnsecuredLines</th>\n",
       "      <th>age</th>\n",
       "      <th>NumberOfTime30-59DaysPastDueNotWorse</th>\n",
       "      <th>DebtRatio</th>\n",
       "      <th>MonthlyIncome</th>\n",
       "      <th>NumberOfOpenCreditLinesAndLoans</th>\n",
       "      <th>NumberOfTimes90DaysLate</th>\n",
       "      <th>NumberRealEstateLoansOrLines</th>\n",
       "      <th>NumberOfTime60-89DaysPastDueNotWorse</th>\n",
       "      <th>NumberOfDependents</th>\n",
       "    </tr>\n",
       "  </thead>\n",
       "  <tbody>\n",
       "    <tr>\n",
       "      <th>0</th>\n",
       "      <td>1</td>\n",
       "      <td>NaN</td>\n",
       "      <td>0.885519</td>\n",
       "      <td>43</td>\n",
       "      <td>0</td>\n",
       "      <td>0.177513</td>\n",
       "      <td>5700.0</td>\n",
       "      <td>4</td>\n",
       "      <td>0</td>\n",
       "      <td>0</td>\n",
       "      <td>0</td>\n",
       "      <td>0.0</td>\n",
       "    </tr>\n",
       "    <tr>\n",
       "      <th>1</th>\n",
       "      <td>2</td>\n",
       "      <td>NaN</td>\n",
       "      <td>0.463295</td>\n",
       "      <td>57</td>\n",
       "      <td>0</td>\n",
       "      <td>0.527237</td>\n",
       "      <td>9141.0</td>\n",
       "      <td>15</td>\n",
       "      <td>0</td>\n",
       "      <td>4</td>\n",
       "      <td>0</td>\n",
       "      <td>2.0</td>\n",
       "    </tr>\n",
       "    <tr>\n",
       "      <th>2</th>\n",
       "      <td>3</td>\n",
       "      <td>NaN</td>\n",
       "      <td>0.043275</td>\n",
       "      <td>59</td>\n",
       "      <td>0</td>\n",
       "      <td>0.687648</td>\n",
       "      <td>5083.0</td>\n",
       "      <td>12</td>\n",
       "      <td>0</td>\n",
       "      <td>1</td>\n",
       "      <td>0</td>\n",
       "      <td>2.0</td>\n",
       "    </tr>\n",
       "    <tr>\n",
       "      <th>3</th>\n",
       "      <td>4</td>\n",
       "      <td>NaN</td>\n",
       "      <td>0.280308</td>\n",
       "      <td>38</td>\n",
       "      <td>1</td>\n",
       "      <td>0.925961</td>\n",
       "      <td>3200.0</td>\n",
       "      <td>7</td>\n",
       "      <td>0</td>\n",
       "      <td>2</td>\n",
       "      <td>0</td>\n",
       "      <td>0.0</td>\n",
       "    </tr>\n",
       "    <tr>\n",
       "      <th>4</th>\n",
       "      <td>5</td>\n",
       "      <td>NaN</td>\n",
       "      <td>1.000000</td>\n",
       "      <td>27</td>\n",
       "      <td>0</td>\n",
       "      <td>0.019917</td>\n",
       "      <td>3865.0</td>\n",
       "      <td>4</td>\n",
       "      <td>0</td>\n",
       "      <td>0</td>\n",
       "      <td>0</td>\n",
       "      <td>1.0</td>\n",
       "    </tr>\n",
       "    <tr>\n",
       "      <th>...</th>\n",
       "      <td>...</td>\n",
       "      <td>...</td>\n",
       "      <td>...</td>\n",
       "      <td>...</td>\n",
       "      <td>...</td>\n",
       "      <td>...</td>\n",
       "      <td>...</td>\n",
       "      <td>...</td>\n",
       "      <td>...</td>\n",
       "      <td>...</td>\n",
       "      <td>...</td>\n",
       "      <td>...</td>\n",
       "    </tr>\n",
       "    <tr>\n",
       "      <th>101498</th>\n",
       "      <td>101499</td>\n",
       "      <td>NaN</td>\n",
       "      <td>0.282653</td>\n",
       "      <td>24</td>\n",
       "      <td>0</td>\n",
       "      <td>0.068522</td>\n",
       "      <td>1400.0</td>\n",
       "      <td>5</td>\n",
       "      <td>0</td>\n",
       "      <td>0</td>\n",
       "      <td>0</td>\n",
       "      <td>0.0</td>\n",
       "    </tr>\n",
       "    <tr>\n",
       "      <th>101499</th>\n",
       "      <td>101500</td>\n",
       "      <td>NaN</td>\n",
       "      <td>0.922156</td>\n",
       "      <td>36</td>\n",
       "      <td>3</td>\n",
       "      <td>0.934217</td>\n",
       "      <td>7615.0</td>\n",
       "      <td>8</td>\n",
       "      <td>0</td>\n",
       "      <td>2</td>\n",
       "      <td>0</td>\n",
       "      <td>4.0</td>\n",
       "    </tr>\n",
       "    <tr>\n",
       "      <th>101500</th>\n",
       "      <td>101501</td>\n",
       "      <td>NaN</td>\n",
       "      <td>0.081596</td>\n",
       "      <td>70</td>\n",
       "      <td>0</td>\n",
       "      <td>836.000000</td>\n",
       "      <td>NaN</td>\n",
       "      <td>3</td>\n",
       "      <td>0</td>\n",
       "      <td>0</td>\n",
       "      <td>0</td>\n",
       "      <td>NaN</td>\n",
       "    </tr>\n",
       "    <tr>\n",
       "      <th>101501</th>\n",
       "      <td>101502</td>\n",
       "      <td>NaN</td>\n",
       "      <td>0.335457</td>\n",
       "      <td>56</td>\n",
       "      <td>0</td>\n",
       "      <td>3568.000000</td>\n",
       "      <td>NaN</td>\n",
       "      <td>8</td>\n",
       "      <td>0</td>\n",
       "      <td>2</td>\n",
       "      <td>1</td>\n",
       "      <td>3.0</td>\n",
       "    </tr>\n",
       "    <tr>\n",
       "      <th>101502</th>\n",
       "      <td>101503</td>\n",
       "      <td>NaN</td>\n",
       "      <td>0.441842</td>\n",
       "      <td>29</td>\n",
       "      <td>0</td>\n",
       "      <td>0.198918</td>\n",
       "      <td>5916.0</td>\n",
       "      <td>12</td>\n",
       "      <td>0</td>\n",
       "      <td>0</td>\n",
       "      <td>0</td>\n",
       "      <td>0.0</td>\n",
       "    </tr>\n",
       "  </tbody>\n",
       "</table>\n",
       "<p>101503 rows × 12 columns</p>\n",
       "</div>"
      ],
      "text/plain": [
       "        Unnamed: 0  SeriousDlqin2yrs  RevolvingUtilizationOfUnsecuredLines  \\\n",
       "0                1               NaN                              0.885519   \n",
       "1                2               NaN                              0.463295   \n",
       "2                3               NaN                              0.043275   \n",
       "3                4               NaN                              0.280308   \n",
       "4                5               NaN                              1.000000   \n",
       "...            ...               ...                                   ...   \n",
       "101498      101499               NaN                              0.282653   \n",
       "101499      101500               NaN                              0.922156   \n",
       "101500      101501               NaN                              0.081596   \n",
       "101501      101502               NaN                              0.335457   \n",
       "101502      101503               NaN                              0.441842   \n",
       "\n",
       "        age  NumberOfTime30-59DaysPastDueNotWorse    DebtRatio  MonthlyIncome  \\\n",
       "0        43                                     0     0.177513         5700.0   \n",
       "1        57                                     0     0.527237         9141.0   \n",
       "2        59                                     0     0.687648         5083.0   \n",
       "3        38                                     1     0.925961         3200.0   \n",
       "4        27                                     0     0.019917         3865.0   \n",
       "...     ...                                   ...          ...            ...   \n",
       "101498   24                                     0     0.068522         1400.0   \n",
       "101499   36                                     3     0.934217         7615.0   \n",
       "101500   70                                     0   836.000000            NaN   \n",
       "101501   56                                     0  3568.000000            NaN   \n",
       "101502   29                                     0     0.198918         5916.0   \n",
       "\n",
       "        NumberOfOpenCreditLinesAndLoans  NumberOfTimes90DaysLate  \\\n",
       "0                                     4                        0   \n",
       "1                                    15                        0   \n",
       "2                                    12                        0   \n",
       "3                                     7                        0   \n",
       "4                                     4                        0   \n",
       "...                                 ...                      ...   \n",
       "101498                                5                        0   \n",
       "101499                                8                        0   \n",
       "101500                                3                        0   \n",
       "101501                                8                        0   \n",
       "101502                               12                        0   \n",
       "\n",
       "        NumberRealEstateLoansOrLines  NumberOfTime60-89DaysPastDueNotWorse  \\\n",
       "0                                  0                                     0   \n",
       "1                                  4                                     0   \n",
       "2                                  1                                     0   \n",
       "3                                  2                                     0   \n",
       "4                                  0                                     0   \n",
       "...                              ...                                   ...   \n",
       "101498                             0                                     0   \n",
       "101499                             2                                     0   \n",
       "101500                             0                                     0   \n",
       "101501                             2                                     1   \n",
       "101502                             0                                     0   \n",
       "\n",
       "        NumberOfDependents  \n",
       "0                      0.0  \n",
       "1                      2.0  \n",
       "2                      2.0  \n",
       "3                      0.0  \n",
       "4                      1.0  \n",
       "...                    ...  \n",
       "101498                 0.0  \n",
       "101499                 4.0  \n",
       "101500                 NaN  \n",
       "101501                 3.0  \n",
       "101502                 0.0  \n",
       "\n",
       "[101503 rows x 12 columns]"
      ]
     },
     "execution_count": 8,
     "metadata": {},
     "output_type": "execute_result"
    }
   ],
   "source": [
    "df3"
   ]
  },
  {
   "cell_type": "code",
   "execution_count": 9,
   "id": "930fe0b5",
   "metadata": {},
   "outputs": [
    {
     "data": {
      "text/plain": [
       "(101503, 12)"
      ]
     },
     "execution_count": 9,
     "metadata": {},
     "output_type": "execute_result"
    }
   ],
   "source": [
    "df3.shape"
   ]
  },
  {
   "cell_type": "code",
   "execution_count": 10,
   "id": "b7d72473",
   "metadata": {},
   "outputs": [
    {
     "data": {
      "text/plain": [
       "Unnamed: 0                                  0\n",
       "SeriousDlqin2yrs                            0\n",
       "RevolvingUtilizationOfUnsecuredLines        0\n",
       "age                                         0\n",
       "NumberOfTime30-59DaysPastDueNotWorse        0\n",
       "DebtRatio                                   0\n",
       "MonthlyIncome                           29731\n",
       "NumberOfOpenCreditLinesAndLoans             0\n",
       "NumberOfTimes90DaysLate                     0\n",
       "NumberRealEstateLoansOrLines                0\n",
       "NumberOfTime60-89DaysPastDueNotWorse        0\n",
       "NumberOfDependents                       3924\n",
       "dtype: int64"
      ]
     },
     "execution_count": 10,
     "metadata": {},
     "output_type": "execute_result"
    }
   ],
   "source": [
    "df2.isnull().sum()"
   ]
  },
  {
   "cell_type": "code",
   "execution_count": 11,
   "id": "5eebbd6c",
   "metadata": {},
   "outputs": [
    {
     "data": {
      "text/plain": [
       "(150000, 12)"
      ]
     },
     "execution_count": 11,
     "metadata": {},
     "output_type": "execute_result"
    }
   ],
   "source": [
    "df2.shape"
   ]
  },
  {
   "cell_type": "code",
   "execution_count": 12,
   "id": "c2f59dca",
   "metadata": {},
   "outputs": [
    {
     "name": "stdout",
     "output_type": "stream",
     "text": [
      "<class 'pandas.core.frame.DataFrame'>\n",
      "RangeIndex: 150000 entries, 0 to 149999\n",
      "Data columns (total 12 columns):\n",
      " #   Column                                Non-Null Count   Dtype  \n",
      "---  ------                                --------------   -----  \n",
      " 0   Unnamed: 0                            150000 non-null  int64  \n",
      " 1   SeriousDlqin2yrs                      150000 non-null  int64  \n",
      " 2   RevolvingUtilizationOfUnsecuredLines  150000 non-null  float64\n",
      " 3   age                                   150000 non-null  int64  \n",
      " 4   NumberOfTime30-59DaysPastDueNotWorse  150000 non-null  int64  \n",
      " 5   DebtRatio                             150000 non-null  float64\n",
      " 6   MonthlyIncome                         120269 non-null  float64\n",
      " 7   NumberOfOpenCreditLinesAndLoans       150000 non-null  int64  \n",
      " 8   NumberOfTimes90DaysLate               150000 non-null  int64  \n",
      " 9   NumberRealEstateLoansOrLines          150000 non-null  int64  \n",
      " 10  NumberOfTime60-89DaysPastDueNotWorse  150000 non-null  int64  \n",
      " 11  NumberOfDependents                    146076 non-null  float64\n",
      "dtypes: float64(4), int64(8)\n",
      "memory usage: 13.7 MB\n"
     ]
    }
   ],
   "source": [
    "df2.info()"
   ]
  },
  {
   "cell_type": "markdown",
   "id": "efb93aa0",
   "metadata": {},
   "source": [
    "### 2)  Get the train dataset : Divide into two parts : Train (80%) and Validation (20%)  in the format which serves input as to the neural network\n",
    "        -> Use Sklearn train_test_split to divide the data\n",
    "        -> Standard Scaling for numerical features\n",
    "        -> Convert into encoding format for textual features\n"
   ]
  },
  {
   "cell_type": "code",
   "execution_count": 13,
   "id": "3c6b7cab",
   "metadata": {},
   "outputs": [],
   "source": [
    "from sklearn.impute import SimpleImputer"
   ]
  },
  {
   "cell_type": "code",
   "execution_count": 14,
   "id": "10a5df63",
   "metadata": {},
   "outputs": [],
   "source": [
    "imp = SimpleImputer(missing_values=np.nan, strategy='mean')\n",
    "df2['MonthlyIncome'] = imp.fit_transform(df2[['MonthlyIncome']])"
   ]
  },
  {
   "cell_type": "code",
   "execution_count": 15,
   "id": "34e8f992",
   "metadata": {},
   "outputs": [
    {
     "name": "stdout",
     "output_type": "stream",
     "text": [
      "<class 'pandas.core.frame.DataFrame'>\n",
      "RangeIndex: 150000 entries, 0 to 149999\n",
      "Data columns (total 12 columns):\n",
      " #   Column                                Non-Null Count   Dtype  \n",
      "---  ------                                --------------   -----  \n",
      " 0   Unnamed: 0                            150000 non-null  int64  \n",
      " 1   SeriousDlqin2yrs                      150000 non-null  int64  \n",
      " 2   RevolvingUtilizationOfUnsecuredLines  150000 non-null  float64\n",
      " 3   age                                   150000 non-null  int64  \n",
      " 4   NumberOfTime30-59DaysPastDueNotWorse  150000 non-null  int64  \n",
      " 5   DebtRatio                             150000 non-null  float64\n",
      " 6   MonthlyIncome                         150000 non-null  float64\n",
      " 7   NumberOfOpenCreditLinesAndLoans       150000 non-null  int64  \n",
      " 8   NumberOfTimes90DaysLate               150000 non-null  int64  \n",
      " 9   NumberRealEstateLoansOrLines          150000 non-null  int64  \n",
      " 10  NumberOfTime60-89DaysPastDueNotWorse  150000 non-null  int64  \n",
      " 11  NumberOfDependents                    146076 non-null  float64\n",
      "dtypes: float64(4), int64(8)\n",
      "memory usage: 13.7 MB\n"
     ]
    }
   ],
   "source": [
    "df2.info()"
   ]
  },
  {
   "cell_type": "code",
   "execution_count": 16,
   "id": "250c742f",
   "metadata": {},
   "outputs": [
    {
     "data": {
      "text/plain": [
       "Unnamed: 0                                 0\n",
       "SeriousDlqin2yrs                           0\n",
       "RevolvingUtilizationOfUnsecuredLines       0\n",
       "age                                        0\n",
       "NumberOfTime30-59DaysPastDueNotWorse       0\n",
       "DebtRatio                                  0\n",
       "MonthlyIncome                              0\n",
       "NumberOfOpenCreditLinesAndLoans            0\n",
       "NumberOfTimes90DaysLate                    0\n",
       "NumberRealEstateLoansOrLines               0\n",
       "NumberOfTime60-89DaysPastDueNotWorse       0\n",
       "NumberOfDependents                      3924\n",
       "dtype: int64"
      ]
     },
     "execution_count": 16,
     "metadata": {},
     "output_type": "execute_result"
    }
   ],
   "source": [
    "df2.isnull().sum()"
   ]
  },
  {
   "cell_type": "code",
   "execution_count": 17,
   "id": "023078a2",
   "metadata": {},
   "outputs": [],
   "source": [
    "df_fin = df2.dropna(axis=0)"
   ]
  },
  {
   "cell_type": "code",
   "execution_count": 18,
   "id": "241ad53a",
   "metadata": {},
   "outputs": [
    {
     "name": "stdout",
     "output_type": "stream",
     "text": [
      "<class 'pandas.core.frame.DataFrame'>\n",
      "Int64Index: 146076 entries, 0 to 149999\n",
      "Data columns (total 12 columns):\n",
      " #   Column                                Non-Null Count   Dtype  \n",
      "---  ------                                --------------   -----  \n",
      " 0   Unnamed: 0                            146076 non-null  int64  \n",
      " 1   SeriousDlqin2yrs                      146076 non-null  int64  \n",
      " 2   RevolvingUtilizationOfUnsecuredLines  146076 non-null  float64\n",
      " 3   age                                   146076 non-null  int64  \n",
      " 4   NumberOfTime30-59DaysPastDueNotWorse  146076 non-null  int64  \n",
      " 5   DebtRatio                             146076 non-null  float64\n",
      " 6   MonthlyIncome                         146076 non-null  float64\n",
      " 7   NumberOfOpenCreditLinesAndLoans       146076 non-null  int64  \n",
      " 8   NumberOfTimes90DaysLate               146076 non-null  int64  \n",
      " 9   NumberRealEstateLoansOrLines          146076 non-null  int64  \n",
      " 10  NumberOfTime60-89DaysPastDueNotWorse  146076 non-null  int64  \n",
      " 11  NumberOfDependents                    146076 non-null  float64\n",
      "dtypes: float64(4), int64(8)\n",
      "memory usage: 14.5 MB\n"
     ]
    }
   ],
   "source": [
    "df_fin.info()"
   ]
  },
  {
   "cell_type": "code",
   "execution_count": 19,
   "id": "59e936b4",
   "metadata": {},
   "outputs": [],
   "source": [
    "df_fin=df_fin.drop('Unnamed: 0',axis=1)"
   ]
  },
  {
   "cell_type": "code",
   "execution_count": 20,
   "id": "9a1e04b4",
   "metadata": {},
   "outputs": [],
   "source": [
    "from sklearn.preprocessing import StandardScaler "
   ]
  },
  {
   "cell_type": "code",
   "execution_count": 21,
   "id": "005df4ba",
   "metadata": {},
   "outputs": [
    {
     "data": {
      "text/plain": [
       "Index(['SeriousDlqin2yrs', 'RevolvingUtilizationOfUnsecuredLines', 'age',\n",
       "       'NumberOfTime30-59DaysPastDueNotWorse', 'DebtRatio', 'MonthlyIncome',\n",
       "       'NumberOfOpenCreditLinesAndLoans', 'NumberOfTimes90DaysLate',\n",
       "       'NumberRealEstateLoansOrLines', 'NumberOfTime60-89DaysPastDueNotWorse',\n",
       "       'NumberOfDependents'],\n",
       "      dtype='object')"
      ]
     },
     "execution_count": 21,
     "metadata": {},
     "output_type": "execute_result"
    }
   ],
   "source": [
    "df_fin.columns"
   ]
  },
  {
   "cell_type": "code",
   "execution_count": 22,
   "id": "78766665",
   "metadata": {},
   "outputs": [
    {
     "name": "stdout",
     "output_type": "stream",
     "text": [
      "<class 'pandas.core.frame.DataFrame'>\n",
      "Int64Index: 146076 entries, 0 to 149999\n",
      "Data columns (total 10 columns):\n",
      " #   Column                                Non-Null Count   Dtype  \n",
      "---  ------                                --------------   -----  \n",
      " 0   RevolvingUtilizationOfUnsecuredLines  146076 non-null  float64\n",
      " 1   age                                   146076 non-null  int64  \n",
      " 2   NumberOfTime30-59DaysPastDueNotWorse  146076 non-null  int64  \n",
      " 3   DebtRatio                             146076 non-null  float64\n",
      " 4   MonthlyIncome                         146076 non-null  float64\n",
      " 5   NumberOfOpenCreditLinesAndLoans       146076 non-null  int64  \n",
      " 6   NumberOfTimes90DaysLate               146076 non-null  int64  \n",
      " 7   NumberRealEstateLoansOrLines          146076 non-null  int64  \n",
      " 8   NumberOfTime60-89DaysPastDueNotWorse  146076 non-null  int64  \n",
      " 9   NumberOfDependents                    146076 non-null  float64\n",
      "dtypes: float64(4), int64(6)\n",
      "memory usage: 12.3 MB\n"
     ]
    }
   ],
   "source": [
    "dfforscale = df_fin.drop('SeriousDlqin2yrs',axis=1)\n",
    "dfforscale.info()"
   ]
  },
  {
   "cell_type": "code",
   "execution_count": 23,
   "id": "a2a59a58",
   "metadata": {},
   "outputs": [],
   "source": [
    "scaler = StandardScaler()"
   ]
  },
  {
   "cell_type": "code",
   "execution_count": 24,
   "id": "c037d35c",
   "metadata": {},
   "outputs": [
    {
     "data": {
      "text/plain": [
       "array([[-0.02061882, -0.48612015,  0.39774193, ...,  4.38772481,\n",
       "        -0.05679574,  1.11451664],\n",
       "       [-0.01985493, -0.82849315, -0.10191665, ..., -0.9090261 ,\n",
       "        -0.05679574,  0.21772181],\n",
       "       [-0.02105048, -0.96544235,  0.14791264, ..., -0.9090261 ,\n",
       "        -0.05679574, -0.67907301],\n",
       "       ...,\n",
       "       [-0.02269856,  0.40404964, -0.10191665, ..., -0.02623428,\n",
       "        -0.05679574, -0.67907301],\n",
       "       [-0.02368246, -1.51323914, -0.10191665, ..., -0.9090261 ,\n",
       "        -0.05679574, -0.67907301],\n",
       "       [-0.02028228,  0.81489723, -0.10191665, ...,  0.85655754,\n",
       "        -0.05679574, -0.67907301]])"
      ]
     },
     "execution_count": 24,
     "metadata": {},
     "output_type": "execute_result"
    }
   ],
   "source": [
    "df_scale = scaler.fit_transform(dfforscale)\n",
    "df_scale"
   ]
  },
  {
   "cell_type": "code",
   "execution_count": 25,
   "id": "8ab4a8c7",
   "metadata": {},
   "outputs": [],
   "source": [
    "df2_scale = pd.DataFrame(df_scale, columns=['RevolvingUtilizationOfUnsecuredLines', 'age',\n",
    "       'NumberOfTime30-59DaysPastDueNotWorse', 'DebtRatio', 'MonthlyIncome',\n",
    "       'NumberOfOpenCreditLinesAndLoans', 'NumberOfTimes90DaysLate',\n",
    "       'NumberRealEstateLoansOrLines', 'NumberOfTime60-89DaysPastDueNotWorse',\n",
    "       'NumberOfDependents'])"
   ]
  },
  {
   "cell_type": "code",
   "execution_count": 26,
   "id": "59e975e6",
   "metadata": {},
   "outputs": [
    {
     "data": {
      "text/html": [
       "<div>\n",
       "<style scoped>\n",
       "    .dataframe tbody tr th:only-of-type {\n",
       "        vertical-align: middle;\n",
       "    }\n",
       "\n",
       "    .dataframe tbody tr th {\n",
       "        vertical-align: top;\n",
       "    }\n",
       "\n",
       "    .dataframe thead th {\n",
       "        text-align: right;\n",
       "    }\n",
       "</style>\n",
       "<table border=\"1\" class=\"dataframe\">\n",
       "  <thead>\n",
       "    <tr style=\"text-align: right;\">\n",
       "      <th></th>\n",
       "      <th>RevolvingUtilizationOfUnsecuredLines</th>\n",
       "      <th>age</th>\n",
       "      <th>NumberOfTime30-59DaysPastDueNotWorse</th>\n",
       "      <th>DebtRatio</th>\n",
       "      <th>MonthlyIncome</th>\n",
       "      <th>NumberOfOpenCreditLinesAndLoans</th>\n",
       "      <th>NumberOfTimes90DaysLate</th>\n",
       "      <th>NumberRealEstateLoansOrLines</th>\n",
       "      <th>NumberOfTime60-89DaysPastDueNotWorse</th>\n",
       "      <th>NumberOfDependents</th>\n",
       "    </tr>\n",
       "  </thead>\n",
       "  <tbody>\n",
       "    <tr>\n",
       "      <th>0</th>\n",
       "      <td>-0.020619</td>\n",
       "      <td>-0.486120</td>\n",
       "      <td>0.397742</td>\n",
       "      <td>-0.171084</td>\n",
       "      <td>1.876900e-01</td>\n",
       "      <td>0.868183</td>\n",
       "      <td>-0.063034</td>\n",
       "      <td>4.387725</td>\n",
       "      <td>-0.056796</td>\n",
       "      <td>1.114517</td>\n",
       "    </tr>\n",
       "    <tr>\n",
       "      <th>1</th>\n",
       "      <td>-0.019855</td>\n",
       "      <td>-0.828493</td>\n",
       "      <td>-0.101917</td>\n",
       "      <td>-0.171435</td>\n",
       "      <td>-3.118404e-01</td>\n",
       "      <td>-0.879554</td>\n",
       "      <td>-0.063034</td>\n",
       "      <td>-0.909026</td>\n",
       "      <td>-0.056796</td>\n",
       "      <td>0.217722</td>\n",
       "    </tr>\n",
       "    <tr>\n",
       "      <th>2</th>\n",
       "      <td>-0.021050</td>\n",
       "      <td>-0.965442</td>\n",
       "      <td>0.147913</td>\n",
       "      <td>-0.171454</td>\n",
       "      <td>-2.779765e-01</td>\n",
       "      <td>-1.267941</td>\n",
       "      <td>0.188400</td>\n",
       "      <td>-0.909026</td>\n",
       "      <td>-0.056796</td>\n",
       "      <td>-0.679073</td>\n",
       "    </tr>\n",
       "    <tr>\n",
       "      <th>3</th>\n",
       "      <td>-0.022747</td>\n",
       "      <td>-1.513239</td>\n",
       "      <td>-0.101917</td>\n",
       "      <td>-0.171479</td>\n",
       "      <td>-2.582098e-01</td>\n",
       "      <td>-0.685361</td>\n",
       "      <td>-0.063034</td>\n",
       "      <td>-0.909026</td>\n",
       "      <td>-0.056796</td>\n",
       "      <td>-0.679073</td>\n",
       "    </tr>\n",
       "    <tr>\n",
       "      <th>4</th>\n",
       "      <td>-0.020055</td>\n",
       "      <td>-0.212222</td>\n",
       "      <td>0.147913</td>\n",
       "      <td>-0.171484</td>\n",
       "      <td>4.360761e+00</td>\n",
       "      <td>-0.296975</td>\n",
       "      <td>-0.063034</td>\n",
       "      <td>-0.026234</td>\n",
       "      <td>-0.056796</td>\n",
       "      <td>-0.679073</td>\n",
       "    </tr>\n",
       "    <tr>\n",
       "      <th>...</th>\n",
       "      <td>...</td>\n",
       "      <td>...</td>\n",
       "      <td>...</td>\n",
       "      <td>...</td>\n",
       "      <td>...</td>\n",
       "      <td>...</td>\n",
       "      <td>...</td>\n",
       "      <td>...</td>\n",
       "      <td>...</td>\n",
       "      <td>...</td>\n",
       "    </tr>\n",
       "    <tr>\n",
       "      <th>146071</th>\n",
       "      <td>-0.023520</td>\n",
       "      <td>1.499643</td>\n",
       "      <td>-0.101917</td>\n",
       "      <td>-0.171381</td>\n",
       "      <td>-3.501479e-01</td>\n",
       "      <td>-0.879554</td>\n",
       "      <td>-0.063034</td>\n",
       "      <td>-0.026234</td>\n",
       "      <td>-0.056796</td>\n",
       "      <td>-0.679073</td>\n",
       "    </tr>\n",
       "    <tr>\n",
       "      <th>146072</th>\n",
       "      <td>-0.022484</td>\n",
       "      <td>-0.554595</td>\n",
       "      <td>-0.101917</td>\n",
       "      <td>-0.171129</td>\n",
       "      <td>-8.322095e-02</td>\n",
       "      <td>-0.879554</td>\n",
       "      <td>-0.063034</td>\n",
       "      <td>-0.026234</td>\n",
       "      <td>-0.056796</td>\n",
       "      <td>1.114517</td>\n",
       "    </tr>\n",
       "    <tr>\n",
       "      <th>146073</th>\n",
       "      <td>-0.022699</td>\n",
       "      <td>0.404050</td>\n",
       "      <td>-0.101917</td>\n",
       "      <td>1.819346</td>\n",
       "      <td>6.968103e-17</td>\n",
       "      <td>1.839148</td>\n",
       "      <td>-0.063034</td>\n",
       "      <td>-0.026234</td>\n",
       "      <td>-0.056796</td>\n",
       "      <td>-0.679073</td>\n",
       "    </tr>\n",
       "    <tr>\n",
       "      <th>146074</th>\n",
       "      <td>-0.023682</td>\n",
       "      <td>-1.513239</td>\n",
       "      <td>-0.101917</td>\n",
       "      <td>-0.171497</td>\n",
       "      <td>-7.310775e-02</td>\n",
       "      <td>-0.879554</td>\n",
       "      <td>-0.063034</td>\n",
       "      <td>-0.909026</td>\n",
       "      <td>-0.056796</td>\n",
       "      <td>-0.679073</td>\n",
       "    </tr>\n",
       "    <tr>\n",
       "      <th>146075</th>\n",
       "      <td>-0.020282</td>\n",
       "      <td>0.814897</td>\n",
       "      <td>-0.101917</td>\n",
       "      <td>-0.171369</td>\n",
       "      <td>1.139863e-01</td>\n",
       "      <td>-0.102782</td>\n",
       "      <td>-0.063034</td>\n",
       "      <td>0.856558</td>\n",
       "      <td>-0.056796</td>\n",
       "      <td>-0.679073</td>\n",
       "    </tr>\n",
       "  </tbody>\n",
       "</table>\n",
       "<p>146076 rows × 10 columns</p>\n",
       "</div>"
      ],
      "text/plain": [
       "        RevolvingUtilizationOfUnsecuredLines       age  \\\n",
       "0                                  -0.020619 -0.486120   \n",
       "1                                  -0.019855 -0.828493   \n",
       "2                                  -0.021050 -0.965442   \n",
       "3                                  -0.022747 -1.513239   \n",
       "4                                  -0.020055 -0.212222   \n",
       "...                                      ...       ...   \n",
       "146071                             -0.023520  1.499643   \n",
       "146072                             -0.022484 -0.554595   \n",
       "146073                             -0.022699  0.404050   \n",
       "146074                             -0.023682 -1.513239   \n",
       "146075                             -0.020282  0.814897   \n",
       "\n",
       "        NumberOfTime30-59DaysPastDueNotWorse  DebtRatio  MonthlyIncome  \\\n",
       "0                                   0.397742  -0.171084   1.876900e-01   \n",
       "1                                  -0.101917  -0.171435  -3.118404e-01   \n",
       "2                                   0.147913  -0.171454  -2.779765e-01   \n",
       "3                                  -0.101917  -0.171479  -2.582098e-01   \n",
       "4                                   0.147913  -0.171484   4.360761e+00   \n",
       "...                                      ...        ...            ...   \n",
       "146071                             -0.101917  -0.171381  -3.501479e-01   \n",
       "146072                             -0.101917  -0.171129  -8.322095e-02   \n",
       "146073                             -0.101917   1.819346   6.968103e-17   \n",
       "146074                             -0.101917  -0.171497  -7.310775e-02   \n",
       "146075                             -0.101917  -0.171369   1.139863e-01   \n",
       "\n",
       "        NumberOfOpenCreditLinesAndLoans  NumberOfTimes90DaysLate  \\\n",
       "0                              0.868183                -0.063034   \n",
       "1                             -0.879554                -0.063034   \n",
       "2                             -1.267941                 0.188400   \n",
       "3                             -0.685361                -0.063034   \n",
       "4                             -0.296975                -0.063034   \n",
       "...                                 ...                      ...   \n",
       "146071                        -0.879554                -0.063034   \n",
       "146072                        -0.879554                -0.063034   \n",
       "146073                         1.839148                -0.063034   \n",
       "146074                        -0.879554                -0.063034   \n",
       "146075                        -0.102782                -0.063034   \n",
       "\n",
       "        NumberRealEstateLoansOrLines  NumberOfTime60-89DaysPastDueNotWorse  \\\n",
       "0                           4.387725                             -0.056796   \n",
       "1                          -0.909026                             -0.056796   \n",
       "2                          -0.909026                             -0.056796   \n",
       "3                          -0.909026                             -0.056796   \n",
       "4                          -0.026234                             -0.056796   \n",
       "...                              ...                                   ...   \n",
       "146071                     -0.026234                             -0.056796   \n",
       "146072                     -0.026234                             -0.056796   \n",
       "146073                     -0.026234                             -0.056796   \n",
       "146074                     -0.909026                             -0.056796   \n",
       "146075                      0.856558                             -0.056796   \n",
       "\n",
       "        NumberOfDependents  \n",
       "0                 1.114517  \n",
       "1                 0.217722  \n",
       "2                -0.679073  \n",
       "3                -0.679073  \n",
       "4                -0.679073  \n",
       "...                    ...  \n",
       "146071           -0.679073  \n",
       "146072            1.114517  \n",
       "146073           -0.679073  \n",
       "146074           -0.679073  \n",
       "146075           -0.679073  \n",
       "\n",
       "[146076 rows x 10 columns]"
      ]
     },
     "execution_count": 26,
     "metadata": {},
     "output_type": "execute_result"
    }
   ],
   "source": [
    "df2_scale"
   ]
  },
  {
   "cell_type": "code",
   "execution_count": 27,
   "id": "353de3f8",
   "metadata": {},
   "outputs": [],
   "source": [
    "df2_scale['SeriousDlqin2yrs'] = df_fin['SeriousDlqin2yrs']"
   ]
  },
  {
   "cell_type": "code",
   "execution_count": 28,
   "id": "f63d3486",
   "metadata": {},
   "outputs": [
    {
     "name": "stdout",
     "output_type": "stream",
     "text": [
      "<class 'pandas.core.frame.DataFrame'>\n",
      "RangeIndex: 146076 entries, 0 to 146075\n",
      "Data columns (total 11 columns):\n",
      " #   Column                                Non-Null Count   Dtype  \n",
      "---  ------                                --------------   -----  \n",
      " 0   RevolvingUtilizationOfUnsecuredLines  146076 non-null  float64\n",
      " 1   age                                   146076 non-null  float64\n",
      " 2   NumberOfTime30-59DaysPastDueNotWorse  146076 non-null  float64\n",
      " 3   DebtRatio                             146076 non-null  float64\n",
      " 4   MonthlyIncome                         146076 non-null  float64\n",
      " 5   NumberOfOpenCreditLinesAndLoans       146076 non-null  float64\n",
      " 6   NumberOfTimes90DaysLate               146076 non-null  float64\n",
      " 7   NumberRealEstateLoansOrLines          146076 non-null  float64\n",
      " 8   NumberOfTime60-89DaysPastDueNotWorse  146076 non-null  float64\n",
      " 9   NumberOfDependents                    146076 non-null  float64\n",
      " 10  SeriousDlqin2yrs                      142262 non-null  float64\n",
      "dtypes: float64(11)\n",
      "memory usage: 12.3 MB\n"
     ]
    }
   ],
   "source": [
    "df2_scale.info()"
   ]
  },
  {
   "cell_type": "code",
   "execution_count": 29,
   "id": "b70ce989",
   "metadata": {},
   "outputs": [],
   "source": [
    "from sklearn.model_selection import train_test_split"
   ]
  },
  {
   "cell_type": "code",
   "execution_count": 30,
   "id": "fe47abd4",
   "metadata": {},
   "outputs": [],
   "source": [
    "X = df_fin.drop('SeriousDlqin2yrs',axis=1)\n",
    "\n",
    "y = df_fin['SeriousDlqin2yrs']"
   ]
  },
  {
   "cell_type": "code",
   "execution_count": 31,
   "id": "dea627b4",
   "metadata": {},
   "outputs": [],
   "source": [
    "X_scale = scaler.fit_transform(X)"
   ]
  },
  {
   "cell_type": "code",
   "execution_count": 32,
   "id": "6fc4592e",
   "metadata": {},
   "outputs": [],
   "source": [
    "X2_scale = pd.DataFrame(X_scale, columns=['RevolvingUtilizationOfUnsecuredLines', 'age',\n",
    "       'NumberOfTime30-59DaysPastDueNotWorse', 'DebtRatio', 'MonthlyIncome',\n",
    "       'NumberOfOpenCreditLinesAndLoans', 'NumberOfTimes90DaysLate',\n",
    "       'NumberRealEstateLoansOrLines', 'NumberOfTime60-89DaysPastDueNotWorse',\n",
    "       'NumberOfDependents'])"
   ]
  },
  {
   "cell_type": "code",
   "execution_count": null,
   "id": "85cb0b31",
   "metadata": {},
   "outputs": [],
   "source": []
  },
  {
   "cell_type": "code",
   "execution_count": 33,
   "id": "61235454",
   "metadata": {},
   "outputs": [],
   "source": [
    "X_train, X_test, y_train, y_test = train_test_split(X2_scale, y, test_size = 0.2, random_state = 10, stratify = y)"
   ]
  },
  {
   "cell_type": "code",
   "execution_count": 34,
   "id": "749984e1",
   "metadata": {},
   "outputs": [
    {
     "data": {
      "text/plain": [
       "(146076,)"
      ]
     },
     "execution_count": 34,
     "metadata": {},
     "output_type": "execute_result"
    }
   ],
   "source": [
    "y.shape"
   ]
  },
  {
   "cell_type": "code",
   "execution_count": 35,
   "id": "54c2d6b1",
   "metadata": {},
   "outputs": [
    {
     "data": {
      "text/plain": [
       "1969"
      ]
     },
     "execution_count": 35,
     "metadata": {},
     "output_type": "execute_result"
    }
   ],
   "source": [
    "count = 0\n",
    "for i in y_test:\n",
    "    if i==1:\n",
    "        count += 1;\n",
    "    \n",
    "count"
   ]
  },
  {
   "cell_type": "code",
   "execution_count": 36,
   "id": "051c86bb",
   "metadata": {},
   "outputs": [],
   "source": [
    "from tensorflow.keras.models import Sequential\n",
    "from tensorflow.keras.layers import Dense, LSTM, Activation\n",
    "from tensorflow.keras.optimizers import SGD"
   ]
  },
  {
   "cell_type": "code",
   "execution_count": 37,
   "id": "1d8d50cb",
   "metadata": {},
   "outputs": [],
   "source": [
    "#from tensorflow.keras.losses import SparseCategoricalCrossentropy\n",
    "import tensorflow\n",
    "from tensorflow.keras.metrics import BinaryAccuracy\n",
    "from tensorflow.keras.metrics import CategoricalAccuracy"
   ]
  },
  {
   "cell_type": "code",
   "execution_count": 38,
   "id": "35d2275b",
   "metadata": {},
   "outputs": [
    {
     "data": {
      "text/html": [
       "<div>\n",
       "<style scoped>\n",
       "    .dataframe tbody tr th:only-of-type {\n",
       "        vertical-align: middle;\n",
       "    }\n",
       "\n",
       "    .dataframe tbody tr th {\n",
       "        vertical-align: top;\n",
       "    }\n",
       "\n",
       "    .dataframe thead th {\n",
       "        text-align: right;\n",
       "    }\n",
       "</style>\n",
       "<table border=\"1\" class=\"dataframe\">\n",
       "  <thead>\n",
       "    <tr style=\"text-align: right;\">\n",
       "      <th></th>\n",
       "      <th>RevolvingUtilizationOfUnsecuredLines</th>\n",
       "      <th>age</th>\n",
       "      <th>NumberOfTime30-59DaysPastDueNotWorse</th>\n",
       "      <th>DebtRatio</th>\n",
       "      <th>MonthlyIncome</th>\n",
       "      <th>NumberOfOpenCreditLinesAndLoans</th>\n",
       "      <th>NumberOfTimes90DaysLate</th>\n",
       "      <th>NumberRealEstateLoansOrLines</th>\n",
       "      <th>NumberOfTime60-89DaysPastDueNotWorse</th>\n",
       "      <th>NumberOfDependents</th>\n",
       "    </tr>\n",
       "  </thead>\n",
       "  <tbody>\n",
       "    <tr>\n",
       "      <th>48032</th>\n",
       "      <td>-0.023536</td>\n",
       "      <td>1.088796</td>\n",
       "      <td>-0.101917</td>\n",
       "      <td>-0.171195</td>\n",
       "      <td>-3.812537e-01</td>\n",
       "      <td>1.256569</td>\n",
       "      <td>-0.063034</td>\n",
       "      <td>-0.026234</td>\n",
       "      <td>-0.056796</td>\n",
       "      <td>-0.679073</td>\n",
       "    </tr>\n",
       "    <tr>\n",
       "      <th>107936</th>\n",
       "      <td>-0.023600</td>\n",
       "      <td>1.088796</td>\n",
       "      <td>-0.101917</td>\n",
       "      <td>-0.171491</td>\n",
       "      <td>1.963475e-01</td>\n",
       "      <td>0.091411</td>\n",
       "      <td>-0.063034</td>\n",
       "      <td>-0.026234</td>\n",
       "      <td>-0.056796</td>\n",
       "      <td>-0.679073</td>\n",
       "    </tr>\n",
       "    <tr>\n",
       "      <th>1458</th>\n",
       "      <td>-0.021638</td>\n",
       "      <td>-0.965442</td>\n",
       "      <td>0.147913</td>\n",
       "      <td>-0.171252</td>\n",
       "      <td>-1.812883e-01</td>\n",
       "      <td>0.285604</td>\n",
       "      <td>-0.063034</td>\n",
       "      <td>-0.026234</td>\n",
       "      <td>-0.056796</td>\n",
       "      <td>1.114517</td>\n",
       "    </tr>\n",
       "    <tr>\n",
       "      <th>118190</th>\n",
       "      <td>-0.023534</td>\n",
       "      <td>0.951846</td>\n",
       "      <td>-0.101917</td>\n",
       "      <td>1.288454</td>\n",
       "      <td>6.968103e-17</td>\n",
       "      <td>1.062376</td>\n",
       "      <td>-0.063034</td>\n",
       "      <td>0.856558</td>\n",
       "      <td>-0.056796</td>\n",
       "      <td>0.217722</td>\n",
       "    </tr>\n",
       "    <tr>\n",
       "      <th>3693</th>\n",
       "      <td>-0.023484</td>\n",
       "      <td>-0.417646</td>\n",
       "      <td>-0.101917</td>\n",
       "      <td>-0.171300</td>\n",
       "      <td>7.658276e-01</td>\n",
       "      <td>-0.491168</td>\n",
       "      <td>-0.063034</td>\n",
       "      <td>-0.026234</td>\n",
       "      <td>-0.056796</td>\n",
       "      <td>1.114517</td>\n",
       "    </tr>\n",
       "    <tr>\n",
       "      <th>...</th>\n",
       "      <td>...</td>\n",
       "      <td>...</td>\n",
       "      <td>...</td>\n",
       "      <td>...</td>\n",
       "      <td>...</td>\n",
       "      <td>...</td>\n",
       "      <td>...</td>\n",
       "      <td>...</td>\n",
       "      <td>...</td>\n",
       "      <td>...</td>\n",
       "    </tr>\n",
       "    <tr>\n",
       "      <th>122162</th>\n",
       "      <td>-0.023437</td>\n",
       "      <td>0.061677</td>\n",
       "      <td>-0.101917</td>\n",
       "      <td>-0.171256</td>\n",
       "      <td>2.608575e-01</td>\n",
       "      <td>0.285604</td>\n",
       "      <td>-0.063034</td>\n",
       "      <td>0.856558</td>\n",
       "      <td>-0.056796</td>\n",
       "      <td>0.217722</td>\n",
       "    </tr>\n",
       "    <tr>\n",
       "      <th>87473</th>\n",
       "      <td>-0.023682</td>\n",
       "      <td>0.061677</td>\n",
       "      <td>0.397742</td>\n",
       "      <td>-0.171189</td>\n",
       "      <td>-5.134907e-02</td>\n",
       "      <td>-0.296975</td>\n",
       "      <td>-0.063034</td>\n",
       "      <td>0.856558</td>\n",
       "      <td>-0.056796</td>\n",
       "      <td>-0.679073</td>\n",
       "    </tr>\n",
       "    <tr>\n",
       "      <th>123000</th>\n",
       "      <td>-0.019575</td>\n",
       "      <td>-1.307815</td>\n",
       "      <td>-0.101917</td>\n",
       "      <td>-0.171199</td>\n",
       "      <td>-2.556815e-01</td>\n",
       "      <td>-0.685361</td>\n",
       "      <td>-0.063034</td>\n",
       "      <td>-0.026234</td>\n",
       "      <td>-0.056796</td>\n",
       "      <td>0.217722</td>\n",
       "    </tr>\n",
       "    <tr>\n",
       "      <th>97010</th>\n",
       "      <td>-0.016116</td>\n",
       "      <td>0.814897</td>\n",
       "      <td>0.147913</td>\n",
       "      <td>1.062105</td>\n",
       "      <td>6.968103e-17</td>\n",
       "      <td>-1.073747</td>\n",
       "      <td>0.439834</td>\n",
       "      <td>-0.026234</td>\n",
       "      <td>0.195600</td>\n",
       "      <td>-0.679073</td>\n",
       "    </tr>\n",
       "    <tr>\n",
       "      <th>98619</th>\n",
       "      <td>-0.022803</td>\n",
       "      <td>-0.075273</td>\n",
       "      <td>-0.101917</td>\n",
       "      <td>-0.171255</td>\n",
       "      <td>1.018811e-01</td>\n",
       "      <td>0.673990</td>\n",
       "      <td>-0.063034</td>\n",
       "      <td>1.739349</td>\n",
       "      <td>-0.056796</td>\n",
       "      <td>-0.679073</td>\n",
       "    </tr>\n",
       "  </tbody>\n",
       "</table>\n",
       "<p>116860 rows × 10 columns</p>\n",
       "</div>"
      ],
      "text/plain": [
       "        RevolvingUtilizationOfUnsecuredLines       age  \\\n",
       "48032                              -0.023536  1.088796   \n",
       "107936                             -0.023600  1.088796   \n",
       "1458                               -0.021638 -0.965442   \n",
       "118190                             -0.023534  0.951846   \n",
       "3693                               -0.023484 -0.417646   \n",
       "...                                      ...       ...   \n",
       "122162                             -0.023437  0.061677   \n",
       "87473                              -0.023682  0.061677   \n",
       "123000                             -0.019575 -1.307815   \n",
       "97010                              -0.016116  0.814897   \n",
       "98619                              -0.022803 -0.075273   \n",
       "\n",
       "        NumberOfTime30-59DaysPastDueNotWorse  DebtRatio  MonthlyIncome  \\\n",
       "48032                              -0.101917  -0.171195  -3.812537e-01   \n",
       "107936                             -0.101917  -0.171491   1.963475e-01   \n",
       "1458                                0.147913  -0.171252  -1.812883e-01   \n",
       "118190                             -0.101917   1.288454   6.968103e-17   \n",
       "3693                               -0.101917  -0.171300   7.658276e-01   \n",
       "...                                      ...        ...            ...   \n",
       "122162                             -0.101917  -0.171256   2.608575e-01   \n",
       "87473                               0.397742  -0.171189  -5.134907e-02   \n",
       "123000                             -0.101917  -0.171199  -2.556815e-01   \n",
       "97010                               0.147913   1.062105   6.968103e-17   \n",
       "98619                              -0.101917  -0.171255   1.018811e-01   \n",
       "\n",
       "        NumberOfOpenCreditLinesAndLoans  NumberOfTimes90DaysLate  \\\n",
       "48032                          1.256569                -0.063034   \n",
       "107936                         0.091411                -0.063034   \n",
       "1458                           0.285604                -0.063034   \n",
       "118190                         1.062376                -0.063034   \n",
       "3693                          -0.491168                -0.063034   \n",
       "...                                 ...                      ...   \n",
       "122162                         0.285604                -0.063034   \n",
       "87473                         -0.296975                -0.063034   \n",
       "123000                        -0.685361                -0.063034   \n",
       "97010                         -1.073747                 0.439834   \n",
       "98619                          0.673990                -0.063034   \n",
       "\n",
       "        NumberRealEstateLoansOrLines  NumberOfTime60-89DaysPastDueNotWorse  \\\n",
       "48032                      -0.026234                             -0.056796   \n",
       "107936                     -0.026234                             -0.056796   \n",
       "1458                       -0.026234                             -0.056796   \n",
       "118190                      0.856558                             -0.056796   \n",
       "3693                       -0.026234                             -0.056796   \n",
       "...                              ...                                   ...   \n",
       "122162                      0.856558                             -0.056796   \n",
       "87473                       0.856558                             -0.056796   \n",
       "123000                     -0.026234                             -0.056796   \n",
       "97010                      -0.026234                              0.195600   \n",
       "98619                       1.739349                             -0.056796   \n",
       "\n",
       "        NumberOfDependents  \n",
       "48032            -0.679073  \n",
       "107936           -0.679073  \n",
       "1458              1.114517  \n",
       "118190            0.217722  \n",
       "3693              1.114517  \n",
       "...                    ...  \n",
       "122162            0.217722  \n",
       "87473            -0.679073  \n",
       "123000            0.217722  \n",
       "97010            -0.679073  \n",
       "98619            -0.679073  \n",
       "\n",
       "[116860 rows x 10 columns]"
      ]
     },
     "execution_count": 38,
     "metadata": {},
     "output_type": "execute_result"
    }
   ],
   "source": [
    "X_train"
   ]
  },
  {
   "cell_type": "code",
   "execution_count": 39,
   "id": "1403bc99",
   "metadata": {},
   "outputs": [],
   "source": [
    "import seaborn as sns"
   ]
  },
  {
   "cell_type": "code",
   "execution_count": 77,
   "id": "b72809a9",
   "metadata": {},
   "outputs": [
    {
     "data": {
      "text/plain": [
       "49354     0\n",
       "110829    0\n",
       "1504      0\n",
       "121372    0\n",
       "3799      0\n",
       "         ..\n",
       "125440    0\n",
       "89834     0\n",
       "126309    0\n",
       "99621     1\n",
       "101271    0\n",
       "Name: SeriousDlqin2yrs, Length: 116860, dtype: int64"
      ]
     },
     "execution_count": 77,
     "metadata": {},
     "output_type": "execute_result"
    }
   ],
   "source": [
    "y_train"
   ]
  },
  {
   "cell_type": "code",
   "execution_count": 40,
   "id": "d2dbe7fc",
   "metadata": {},
   "outputs": [
    {
     "data": {
      "text/plain": [
       "0    108982\n",
       "1      7878\n",
       "Name: SeriousDlqin2yrs, dtype: int64"
      ]
     },
     "execution_count": 40,
     "metadata": {},
     "output_type": "execute_result"
    }
   ],
   "source": [
    "y_train.value_counts()"
   ]
  },
  {
   "cell_type": "code",
   "execution_count": 41,
   "id": "4fef4c0b",
   "metadata": {
    "scrolled": true
   },
   "outputs": [
    {
     "name": "stderr",
     "output_type": "stream",
     "text": [
      "C:\\Users\\mahesh\\anaconda3\\lib\\site-packages\\seaborn\\_decorators.py:36: FutureWarning: Pass the following variable as a keyword arg: x. From version 0.12, the only valid positional argument will be `data`, and passing other arguments without an explicit keyword will result in an error or misinterpretation.\n",
      "  warnings.warn(\n"
     ]
    },
    {
     "data": {
      "text/plain": [
       "<AxesSubplot:xlabel='SeriousDlqin2yrs', ylabel='count'>"
      ]
     },
     "execution_count": 41,
     "metadata": {},
     "output_type": "execute_result"
    },
    {
     "data": {
      "image/png": "[encoded data removed]",
      "text/plain": [
       "<Figure size 432x288 with 1 Axes>"
      ]
     },
     "metadata": {
      "needs_background": "light"
     },
     "output_type": "display_data"
    }
   ],
   "source": [
    "sns.countplot(y_train)"
   ]
  },
  {
   "cell_type": "code",
   "execution_count": null,
   "id": "59d58e35",
   "metadata": {},
   "outputs": [],
   "source": []
  },
  {
   "cell_type": "code",
   "execution_count": 62,
   "id": "20c9163a",
   "metadata": {},
   "outputs": [
    {
     "name": "stdout",
     "output_type": "stream",
     "text": [
      "Model: \"sequential_1\"\n",
      "_________________________________________________________________\n",
      "Layer (type)                 Output Shape              Param #   \n",
      "=================================================================\n",
      "dense_2 (Dense)              (None, 1000)              11000     \n",
      "_________________________________________________________________\n",
      "dense_3 (Dense)              (None, 1)                 1001      \n",
      "=================================================================\n",
      "Total params: 12,001\n",
      "Trainable params: 12,001\n",
      "Non-trainable params: 0\n",
      "_________________________________________________________________\n"
     ]
    }
   ],
   "source": [
    "model = Sequential()\n",
    "model.add(Dense(1000, input_dim=X_train.shape[1], activation='relu'))\n",
    "model.add(Dense(1,  activation='sigmoid'))\n",
    "model.summary()\n"
   ]
  },
  {
   "cell_type": "code",
   "execution_count": 63,
   "id": "d27c16e2",
   "metadata": {},
   "outputs": [
    {
     "name": "stdout",
     "output_type": "stream",
     "text": [
      "Epoch 1/20\n",
      "115/115 [==============================] - 3s 16ms/step - loss: 0.2785 - accuracy: 0.9262 - val_loss: 0.2172 - val_accuracy: 0.9328\n",
      "Epoch 2/20\n",
      "115/115 [==============================] - 2s 19ms/step - loss: 0.2047 - accuracy: 0.9335 - val_loss: 0.1971 - val_accuracy: 0.9330\n",
      "Epoch 3/20\n",
      "115/115 [==============================] - 2s 17ms/step - loss: 0.1943 - accuracy: 0.9351 - val_loss: 0.1942 - val_accuracy: 0.9330\n",
      "Epoch 4/20\n",
      "115/115 [==============================] - 2s 15ms/step - loss: 0.1919 - accuracy: 0.9358 - val_loss: 0.1933 - val_accuracy: 0.9333\n",
      "Epoch 5/20\n",
      "115/115 [==============================] - 2s 15ms/step - loss: 0.1908 - accuracy: 0.9361 - val_loss: 0.1920 - val_accuracy: 0.9340\n",
      "Epoch 6/20\n",
      "115/115 [==============================] - 2s 18ms/step - loss: 0.1902 - accuracy: 0.9363 - val_loss: 0.1911 - val_accuracy: 0.9340\n",
      "Epoch 7/20\n",
      "115/115 [==============================] - 2s 15ms/step - loss: 0.1900 - accuracy: 0.9362 - val_loss: 0.1914 - val_accuracy: 0.9338\n",
      "Epoch 8/20\n",
      "115/115 [==============================] - 2s 17ms/step - loss: 0.1896 - accuracy: 0.9364 - val_loss: 0.1911 - val_accuracy: 0.9341\n",
      "Epoch 9/20\n",
      "115/115 [==============================] - 3s 22ms/step - loss: 0.1895 - accuracy: 0.9364 - val_loss: 0.1919 - val_accuracy: 0.9335\n",
      "Epoch 10/20\n",
      "115/115 [==============================] - 2s 15ms/step - loss: 0.1890 - accuracy: 0.9365 - val_loss: 0.1914 - val_accuracy: 0.9340\n",
      "Epoch 11/20\n",
      "115/115 [==============================] - 2s 16ms/step - loss: 0.1890 - accuracy: 0.9364 - val_loss: 0.1906 - val_accuracy: 0.9345\n",
      "Epoch 12/20\n",
      "115/115 [==============================] - 3s 25ms/step - loss: 0.1889 - accuracy: 0.9364 - val_loss: 0.1907 - val_accuracy: 0.9342 - accu\n",
      "Epoch 13/20\n",
      "115/115 [==============================] - 2s 19ms/step - loss: 0.1885 - accuracy: 0.9363 - val_loss: 0.1905 - val_accuracy: 0.9340\n",
      "Epoch 14/20\n",
      "115/115 [==============================] - 2s 14ms/step - loss: 0.1888 - accuracy: 0.9364 - val_loss: 0.1904 - val_accuracy: 0.9341\n",
      "Epoch 15/20\n",
      "115/115 [==============================] - 2s 15ms/step - loss: 0.1885 - accuracy: 0.9365 - val_loss: 0.1903 - val_accuracy: 0.9347\n",
      "Epoch 16/20\n",
      "115/115 [==============================] - 2s 16ms/step - loss: 0.1883 - accuracy: 0.9367 - val_loss: 0.1902 - val_accuracy: 0.9347\n",
      "Epoch 17/20\n",
      "115/115 [==============================] - 2s 19ms/step - loss: 0.1883 - accuracy: 0.9364 - val_loss: 0.1900 - val_accuracy: 0.9348\n",
      "Epoch 18/20\n",
      "115/115 [==============================] - 2s 16ms/step - loss: 0.1880 - accuracy: 0.9367 - val_loss: 0.1896 - val_accuracy: 0.9353\n",
      "Epoch 19/20\n",
      "115/115 [==============================] - 2s 20ms/step - loss: 0.1882 - accuracy: 0.9366 - val_loss: 0.1895 - val_accuracy: 0.9352\n",
      "Epoch 20/20\n",
      "115/115 [==============================] - 2s 15ms/step - loss: 0.1879 - accuracy: 0.9366 - val_loss: 0.1903 - val_accuracy: 0.9350\n"
     ]
    },
    {
     "data": {
      "text/plain": [
       "<tensorflow.python.keras.callbacks.History at 0x264625b7670>"
      ]
     },
     "execution_count": 63,
     "metadata": {},
     "output_type": "execute_result"
    }
   ],
   "source": [
    "class_weight = {0: 1.,1: 10.}\n",
    "model.compile(optimizer='adam', loss='binary_crossentropy', metrics=['accuracy'])\n",
    "model.fit(X_train, y_train, validation_data=(X_test, y_test), epochs=20, batch_size=1024, verbose=1)\n"
   ]
  },
  {
   "cell_type": "code",
   "execution_count": 42,
   "id": "7bc75aae",
   "metadata": {},
   "outputs": [
    {
     "name": "stdout",
     "output_type": "stream",
     "text": [
      "Epoch 1/15\n",
      "2922/2922 - 8s - loss: 0.0000e+00 - accuracy: 0.9321 - val_loss: 0.0000e+00 - val_accuracy: 0.9335\n",
      "Epoch 2/15\n",
      "2922/2922 - 6s - loss: 0.0000e+00 - accuracy: 0.9324 - val_loss: 0.0000e+00 - val_accuracy: 0.9335\n",
      "Epoch 3/15\n",
      "2922/2922 - 5s - loss: 0.0000e+00 - accuracy: 0.9324 - val_loss: 0.0000e+00 - val_accuracy: 0.9335\n",
      "Epoch 4/15\n",
      "2922/2922 - 6s - loss: 0.0000e+00 - accuracy: 0.9324 - val_loss: 0.0000e+00 - val_accuracy: 0.9335\n",
      "Epoch 5/15\n",
      "2922/2922 - 6s - loss: 0.0000e+00 - accuracy: 0.9324 - val_loss: 0.0000e+00 - val_accuracy: 0.9335\n",
      "Epoch 6/15\n",
      "2922/2922 - 7s - loss: 0.0000e+00 - accuracy: 0.9324 - val_loss: 0.0000e+00 - val_accuracy: 0.9335\n",
      "Epoch 7/15\n",
      "2922/2922 - 6s - loss: 0.0000e+00 - accuracy: 0.9324 - val_loss: 0.0000e+00 - val_accuracy: 0.9335\n",
      "Epoch 8/15\n",
      "2922/2922 - 6s - loss: 0.0000e+00 - accuracy: 0.9324 - val_loss: 0.0000e+00 - val_accuracy: 0.9335\n",
      "Epoch 9/15\n",
      "2922/2922 - 6s - loss: 0.0000e+00 - accuracy: 0.9324 - val_loss: 0.0000e+00 - val_accuracy: 0.9335\n",
      "Epoch 10/15\n",
      "2922/2922 - 6s - loss: 0.0000e+00 - accuracy: 0.9324 - val_loss: 0.0000e+00 - val_accuracy: 0.9335\n",
      "Epoch 11/15\n",
      "2922/2922 - 6s - loss: 0.0000e+00 - accuracy: 0.9324 - val_loss: 0.0000e+00 - val_accuracy: 0.9335\n",
      "Epoch 12/15\n",
      "2922/2922 - 6s - loss: 0.0000e+00 - accuracy: 0.9324 - val_loss: 0.0000e+00 - val_accuracy: 0.9335\n",
      "Epoch 13/15\n",
      "2922/2922 - 6s - loss: 0.0000e+00 - accuracy: 0.9324 - val_loss: 0.0000e+00 - val_accuracy: 0.9335\n",
      "Epoch 14/15\n",
      "2922/2922 - 5s - loss: 0.0000e+00 - accuracy: 0.9324 - val_loss: 0.0000e+00 - val_accuracy: 0.9335\n",
      "Epoch 15/15\n",
      "2922/2922 - 5s - loss: 0.0000e+00 - accuracy: 0.9324 - val_loss: 0.0000e+00 - val_accuracy: 0.9335\n"
     ]
    },
    {
     "data": {
      "text/plain": [
       "<tensorflow.python.keras.callbacks.History at 0x2208a9624f0>"
      ]
     },
     "execution_count": 42,
     "metadata": {},
     "output_type": "execute_result"
    }
   ],
   "source": [
    "model.compile(optimizer='adam', loss='categorical_crossentropy', metrics=['accuracy'])\n",
    "\n",
    "model.fit(X_train, y_train, batch_size=32, epochs=15, validation_split=0.2, verbose=2)"
   ]
  },
  {
   "cell_type": "code",
   "execution_count": 43,
   "id": "20b2eaa0",
   "metadata": {
    "scrolled": true
   },
   "outputs": [
    {
     "name": "stdout",
     "output_type": "stream",
     "text": [
      "Epoch 1/15\n",
      "2922/2922 - 6s - loss: 0.0000e+00 - accuracy: 0.9269 - val_loss: 0.0000e+00 - val_accuracy: 0.9335\n",
      "Epoch 2/15\n",
      "2922/2922 - 4s - loss: 0.0000e+00 - accuracy: 0.9324 - val_loss: 0.0000e+00 - val_accuracy: 0.9335\n",
      "Epoch 3/15\n",
      "2922/2922 - 4s - loss: 0.0000e+00 - accuracy: 0.9324 - val_loss: 0.0000e+00 - val_accuracy: 0.9335\n",
      "Epoch 4/15\n",
      "2922/2922 - 4s - loss: 0.0000e+00 - accuracy: 0.9324 - val_loss: 0.0000e+00 - val_accuracy: 0.9335\n",
      "Epoch 5/15\n",
      "2922/2922 - 5s - loss: 0.0000e+00 - accuracy: 0.9324 - val_loss: 0.0000e+00 - val_accuracy: 0.9335\n",
      "Epoch 6/15\n",
      "2922/2922 - 5s - loss: 0.0000e+00 - accuracy: 0.9324 - val_loss: 0.0000e+00 - val_accuracy: 0.9335\n",
      "Epoch 7/15\n",
      "2922/2922 - 5s - loss: 0.0000e+00 - accuracy: 0.9324 - val_loss: 0.0000e+00 - val_accuracy: 0.9335\n",
      "Epoch 8/15\n",
      "2922/2922 - 5s - loss: 0.0000e+00 - accuracy: 0.9324 - val_loss: 0.0000e+00 - val_accuracy: 0.9335\n",
      "Epoch 9/15\n",
      "2922/2922 - 4s - loss: 0.0000e+00 - accuracy: 0.9324 - val_loss: 0.0000e+00 - val_accuracy: 0.9335\n",
      "Epoch 10/15\n",
      "2922/2922 - 4s - loss: 0.0000e+00 - accuracy: 0.9324 - val_loss: 0.0000e+00 - val_accuracy: 0.9335\n",
      "Epoch 11/15\n",
      "2922/2922 - 5s - loss: 0.0000e+00 - accuracy: 0.9324 - val_loss: 0.0000e+00 - val_accuracy: 0.9335\n",
      "Epoch 12/15\n",
      "2922/2922 - 5s - loss: 0.0000e+00 - accuracy: 0.9324 - val_loss: 0.0000e+00 - val_accuracy: 0.9335\n",
      "Epoch 13/15\n",
      "2922/2922 - 5s - loss: 0.0000e+00 - accuracy: 0.9324 - val_loss: 0.0000e+00 - val_accuracy: 0.9335\n",
      "Epoch 14/15\n",
      "2922/2922 - 5s - loss: 0.0000e+00 - accuracy: 0.9324 - val_loss: 0.0000e+00 - val_accuracy: 0.9335\n",
      "Epoch 15/15\n",
      "2922/2922 - 4s - loss: 0.0000e+00 - accuracy: 0.9324 - val_loss: 0.0000e+00 - val_accuracy: 0.9335\n"
     ]
    },
    {
     "data": {
      "text/plain": [
       "<tensorflow.python.keras.callbacks.History at 0x2208d82d7f0>"
      ]
     },
     "execution_count": 43,
     "metadata": {},
     "output_type": "execute_result"
    }
   ],
   "source": [
    "'''\n",
    "First step is to initialize your model\n",
    "Keras has two types of models \n",
    "    1. Sequential - easier to work with, suitable for most tasks\n",
    "    2. Functional API - useful for defining complex models\n",
    "'''\n",
    "model1 = Sequential()\n",
    "\n",
    "'''Then, define your model architecture'''\n",
    "\n",
    "'''\n",
    "Add a fully connected hidden layer with 128 nodes. \n",
    "When you add your first layer, Keras implicitly adds the input layer, \n",
    "so you need to specify the dimension of your inputs\n",
    "'''\n",
    "model1.add(Dense(10, input_dim=10))\n",
    "'''Specify your activation function for this layer'''\n",
    "model1.add(Activation('relu'))\n",
    "'''Add an output layer with 10 output nodes'''\n",
    "#model.add(Dense(5))\n",
    "'''Specify your activation function for this layer'''\n",
    "#model.add(Activation('sigmoid'))\n",
    "model1.add(Dense(1))\n",
    "'''Specify your activation function for this layer'''\n",
    "model1.add(Activation('sigmoid'))\n",
    "\n",
    "'''\n",
    "Next, compile your model. This defines two critical features\n",
    "    1. Optimizer - how your model learns\n",
    "    2. Loss function - how your model defines the error between\n",
    "       the correct output and its prediction\n",
    "Here you can also specify the metrics you want to use to evaluate your model's performance\n",
    "'''\n",
    "#loss_fn = tensorflow.keras.losses.SparseCategoricalCrossentropy()\n",
    "\n",
    "\n",
    "#sgd = SGD(learning_rate=0.001)\n",
    "#opt = tensorflow.keras.optimizers.Adam()\n",
    "model1.compile(optimizer='adam', loss='categorical_crossentropy', metrics=['accuracy'])\n",
    "\n",
    "'''\n",
    "Finally, train your model. \n",
    "To train, a model needs input data, and the corresponding correct outputs\n",
    "You can also specify the batch size and number of training epochs\n",
    "'''\n",
    "model1.fit(X_train, y_train, batch_size=32, epochs=15, validation_split=0.2, verbose=2)"
   ]
  },
  {
   "cell_type": "code",
   "execution_count": 44,
   "id": "0c5da2b9",
   "metadata": {},
   "outputs": [
    {
     "name": "stdout",
     "output_type": "stream",
     "text": [
      "Model: \"sequential_1\"\n",
      "_________________________________________________________________\n",
      "Layer (type)                 Output Shape              Param #   \n",
      "=================================================================\n",
      "dense_2 (Dense)              (None, 10)                110       \n",
      "_________________________________________________________________\n",
      "activation (Activation)      (None, 10)                0         \n",
      "_________________________________________________________________\n",
      "dense_3 (Dense)              (None, 1)                 11        \n",
      "_________________________________________________________________\n",
      "activation_1 (Activation)    (None, 1)                 0         \n",
      "=================================================================\n",
      "Total params: 121\n",
      "Trainable params: 121\n",
      "Non-trainable params: 0\n",
      "_________________________________________________________________\n"
     ]
    }
   ],
   "source": [
    "model1.summary()"
   ]
  },
  {
   "cell_type": "code",
   "execution_count": 64,
   "id": "1f6fd6b6",
   "metadata": {},
   "outputs": [
    {
     "name": "stdout",
     "output_type": "stream",
     "text": [
      "Epoch 1/20\n",
      "115/115 [==============================] - 2s 20ms/step - loss: 0.1878 - accuracy: 0.9368 - val_loss: 0.1907 - val_accuracy: 0.9346\n",
      "Epoch 2/20\n",
      "115/115 [==============================] - 2s 17ms/step - loss: 0.1876 - accuracy: 0.9366 - val_loss: 0.1900 - val_accuracy: 0.9348\n",
      "Epoch 3/20\n",
      "115/115 [==============================] - 2s 14ms/step - loss: 0.1877 - accuracy: 0.9368 - val_loss: 0.1900 - val_accuracy: 0.9349\n",
      "Epoch 4/20\n",
      "115/115 [==============================] - 2s 13ms/step - loss: 0.1879 - accuracy: 0.9367 - val_loss: 0.1917 - val_accuracy: 0.9348\n",
      "Epoch 5/20\n",
      "115/115 [==============================] - 2s 15ms/step - loss: 0.1877 - accuracy: 0.9366 - val_loss: 0.1903 - val_accuracy: 0.9348\n",
      "Epoch 6/20\n",
      "115/115 [==============================] - 2s 20ms/step - loss: 0.1875 - accuracy: 0.9364 - val_loss: 0.1894 - val_accuracy: 0.9356\n",
      "Epoch 7/20\n",
      "115/115 [==============================] - 2s 15ms/step - loss: 0.1874 - accuracy: 0.9366 - val_loss: 0.1897 - val_accuracy: 0.9356\n",
      "Epoch 8/20\n",
      "115/115 [==============================] - 2s 15ms/step - loss: 0.1878 - accuracy: 0.9365 - val_loss: 0.1901 - val_accuracy: 0.9350\n",
      "Epoch 9/20\n",
      "115/115 [==============================] - 2s 21ms/step - loss: 0.1876 - accuracy: 0.9367 - val_loss: 0.1893 - val_accuracy: 0.9355\n",
      "Epoch 10/20\n",
      "115/115 [==============================] - 2s 15ms/step - loss: 0.1873 - accuracy: 0.9367 - val_loss: 0.1897 - val_accuracy: 0.9348\n",
      "Epoch 11/20\n",
      "115/115 [==============================] - 2s 16ms/step - loss: 0.1874 - accuracy: 0.9366 - val_loss: 0.1891 - val_accuracy: 0.9353\n",
      "Epoch 12/20\n",
      "115/115 [==============================] - 2s 19ms/step - loss: 0.1870 - accuracy: 0.9368 - val_loss: 0.1890 - val_accuracy: 0.9354\n",
      "Epoch 13/20\n",
      "115/115 [==============================] - 2s 15ms/step - loss: 0.1873 - accuracy: 0.9368 - val_loss: 0.1891 - val_accuracy: 0.9351\n",
      "Epoch 14/20\n",
      "115/115 [==============================] - 2s 16ms/step - loss: 0.1873 - accuracy: 0.9366 - val_loss: 0.1892 - val_accuracy: 0.9353\n",
      "Epoch 15/20\n",
      "115/115 [==============================] - 2s 15ms/step - loss: 0.1869 - accuracy: 0.9368 - val_loss: 0.1892 - val_accuracy: 0.9349\n",
      "Epoch 16/20\n",
      "115/115 [==============================] - 2s 17ms/step - loss: 0.1870 - accuracy: 0.9369 - val_loss: 0.1895 - val_accuracy: 0.9352\n",
      "Epoch 17/20\n",
      "115/115 [==============================] - 2s 14ms/step - loss: 0.1867 - accuracy: 0.9368 - val_loss: 0.1894 - val_accuracy: 0.9352\n",
      "Epoch 18/20\n",
      "115/115 [==============================] - 2s 15ms/step - loss: 0.1868 - accuracy: 0.9366 - val_loss: 0.1895 - val_accuracy: 0.9352\n",
      "Epoch 19/20\n",
      "115/115 [==============================] - 2s 18ms/step - loss: 0.1868 - accuracy: 0.9369 - val_loss: 0.1905 - val_accuracy: 0.9350\n",
      "Epoch 20/20\n",
      "115/115 [==============================] - 2s 19ms/step - loss: 0.1869 - accuracy: 0.9369 - val_loss: 0.1897 - val_accuracy: 0.9350\n"
     ]
    }
   ],
   "source": [
    "history = model.fit(X_train, y_train, validation_data=(X_test, y_test), epochs=20, batch_size=1024, verbose=1)\n"
   ]
  },
  {
   "cell_type": "code",
   "execution_count": 65,
   "id": "436d4237",
   "metadata": {},
   "outputs": [],
   "source": [
    "\n",
    "# evaluate the model-\n",
    "_, train_acc = model.evaluate(X_train, y_train, verbose=0)\n",
    "_, test_acc = model.evaluate(X_test, y_test, verbose=0)"
   ]
  },
  {
   "cell_type": "code",
   "execution_count": 66,
   "id": "f67ba4e5",
   "metadata": {},
   "outputs": [
    {
     "name": "stdout",
     "output_type": "stream",
     "text": [
      "Train: 0.937, Test: 0.935\n"
     ]
    }
   ],
   "source": [
    "print('Train: %.3f, Test: %.3f' % (train_acc, test_acc))"
   ]
  },
  {
   "cell_type": "code",
   "execution_count": 67,
   "id": "ecf6992f",
   "metadata": {},
   "outputs": [],
   "source": [
    "from matplotlib import pyplot"
   ]
  },
  {
   "cell_type": "code",
   "execution_count": 68,
   "id": "f492f5b4",
   "metadata": {},
   "outputs": [
    {
     "data": {
      "image/png": "[encoded data removed]",
      "text/plain": [
       "<Figure size 432x288 with 2 Axes>"
      ]
     },
     "metadata": {
      "needs_background": "light"
     },
     "output_type": "display_data"
    }
   ],
   "source": [
    "# plot loss during training\n",
    "pyplot.subplot(211)\n",
    "pyplot.title('Loss')\n",
    "pyplot.plot(history.history['loss'], label='train')\n",
    "pyplot.plot(history.history['val_loss'], label='test')\n",
    "pyplot.legend()\n",
    "# plot accuracy during training\n",
    "pyplot.subplot(212)\n",
    "pyplot.title('Accuracy')\n",
    "pyplot.plot(history.history['accuracy'], label='train')\n",
    "pyplot.plot(history.history['val_accuracy'], label='test')\n",
    "pyplot.legend()\n",
    "pyplot.show()"
   ]
  },
  {
   "cell_type": "code",
   "execution_count": 69,
   "id": "4ee0383b",
   "metadata": {},
   "outputs": [
    {
     "name": "stderr",
     "output_type": "stream",
     "text": [
      "C:\\Users\\mahesh\\anaconda3\\lib\\site-packages\\tensorflow\\python\\keras\\engine\\sequential.py:455: UserWarning: `model.predict_classes()` is deprecated and will be removed after 2021-01-01. Please use instead:* `np.argmax(model.predict(x), axis=-1)`,   if your model does multi-class classification   (e.g. if it uses a `softmax` last-layer activation).* `(model.predict(x) > 0.5).astype(\"int32\")`,   if your model does binary classification   (e.g. if it uses a `sigmoid` last-layer activation).\n",
      "  warnings.warn('`model.predict_classes()` is deprecated and '\n"
     ]
    }
   ],
   "source": [
    "# predict probabilities for test set\n",
    "yhat_probs = model.predict(X_test, verbose=0)\n",
    "# predict crisp classes for test set\n",
    "yhat_classes = model.predict_classes(X_test, verbose=0)"
   ]
  },
  {
   "cell_type": "code",
   "execution_count": 70,
   "id": "4a760d07",
   "metadata": {},
   "outputs": [
    {
     "data": {
      "text/plain": [
       "array([[0.04174605],\n",
       "       [0.09191287],\n",
       "       [0.0217489 ],\n",
       "       ...,\n",
       "       [0.1463061 ],\n",
       "       [0.01810631],\n",
       "       [0.01472306]], dtype=float32)"
      ]
     },
     "execution_count": 70,
     "metadata": {},
     "output_type": "execute_result"
    }
   ],
   "source": [
    "yhat_probs"
   ]
  },
  {
   "cell_type": "code",
   "execution_count": 71,
   "id": "f8f44af7",
   "metadata": {},
   "outputs": [
    {
     "data": {
      "text/plain": [
       "array([[0],\n",
       "       [0],\n",
       "       [0],\n",
       "       ...,\n",
       "       [0],\n",
       "       [0],\n",
       "       [0]])"
      ]
     },
     "execution_count": 71,
     "metadata": {},
     "output_type": "execute_result"
    }
   ],
   "source": [
    "yhat_classes"
   ]
  },
  {
   "cell_type": "code",
   "execution_count": 72,
   "id": "e12aef85",
   "metadata": {},
   "outputs": [],
   "source": [
    "# reduce to 1d array\n",
    "yhat_probs = yhat_probs[:, 0]\n",
    "yhat_classes = yhat_classes[:, 0]"
   ]
  },
  {
   "cell_type": "code",
   "execution_count": 73,
   "id": "5e296658",
   "metadata": {},
   "outputs": [],
   "source": [
    "from sklearn.metrics import accuracy_score, precision_score, recall_score, f1_score, cohen_kappa_score, roc_auc_score, confusion_matrix"
   ]
  },
  {
   "cell_type": "code",
   "execution_count": 74,
   "id": "8038b7e0",
   "metadata": {},
   "outputs": [
    {
     "data": {
      "text/plain": [
       "array([0.04174605, 0.09191287, 0.0217489 , ..., 0.1463061 , 0.01810631,\n",
       "       0.01472306], dtype=float32)"
      ]
     },
     "execution_count": 74,
     "metadata": {},
     "output_type": "execute_result"
    }
   ],
   "source": [
    "yhat_probs"
   ]
  },
  {
   "cell_type": "code",
   "execution_count": 75,
   "id": "ab26ee8c",
   "metadata": {},
   "outputs": [
    {
     "name": "stdout",
     "output_type": "stream",
     "text": [
      "Accuracy: 0.935036\n",
      "Precision: 0.546896\n",
      "Recall: 0.210259\n",
      "F1 score: 0.303742\n"
     ]
    }
   ],
   "source": [
    "# accuracy: (tp + tn) / (p + n)\n",
    "accuracy = accuracy_score(y_test, yhat_classes)\n",
    "print('Accuracy: %f' % accuracy)\n",
    "# precision tp / (tp + fp)\n",
    "precision = precision_score(y_test, yhat_classes)\n",
    "print('Precision: %f' % precision)\n",
    "# recall: tp / (tp + fn)\n",
    "recall = recall_score(y_test, yhat_classes)\n",
    "print('Recall: %f' % recall)\n",
    "# f1: 2 tp / (2 tp + fp + fn)\n",
    "f1 = f1_score(y_test, yhat_classes)\n",
    "print('F1 score: %f' % f1)"
   ]
  },
  {
   "cell_type": "code",
   "execution_count": 76,
   "id": "294b3662",
   "metadata": {},
   "outputs": [
    {
     "name": "stdout",
     "output_type": "stream",
     "text": [
      "Cohens kappa: 0.276667\n",
      "ROC AUC: 0.835609\n",
      "[[  414  1555]\n",
      " [  343 26904]]\n"
     ]
    }
   ],
   "source": [
    "\n",
    "# kappa\n",
    "kappa = cohen_kappa_score(y_test, yhat_classes)\n",
    "print('Cohens kappa: %f' % kappa)\n",
    "# ROC AUC\n",
    "auc = roc_auc_score(y_test, yhat_probs)\n",
    "print('ROC AUC: %f' % auc)\n",
    "# confusion matrix\n",
    "labels = [1, 0]\n",
    "matrix = confusion_matrix(y_test, yhat_classes, labels=labels)\n",
    "print(matrix)"
   ]
  },
  {
   "cell_type": "code",
   "execution_count": null,
   "id": "41d67422",
   "metadata": {},
   "outputs": [],
   "source": []
  },
  {
   "cell_type": "code",
   "execution_count": null,
   "id": "c647cba4",
   "metadata": {},
   "outputs": [],
   "source": []
  },
  {
   "cell_type": "code",
   "execution_count": 58,
   "id": "25c8a56d",
   "metadata": {},
   "outputs": [],
   "source": [
    "y_pred = model.predict(X_test)"
   ]
  },
  {
   "cell_type": "code",
   "execution_count": 59,
   "id": "9ec4765f",
   "metadata": {},
   "outputs": [
    {
     "data": {
      "text/plain": [
       "dtype('int64')"
      ]
     },
     "execution_count": 59,
     "metadata": {},
     "output_type": "execute_result"
    }
   ],
   "source": [
    "y_test.dtype"
   ]
  },
  {
   "cell_type": "code",
   "execution_count": 60,
   "id": "f0893204",
   "metadata": {},
   "outputs": [],
   "source": [
    "y_predint = y_pred.astype('int64')"
   ]
  },
  {
   "cell_type": "code",
   "execution_count": 61,
   "id": "c7e97a8e",
   "metadata": {},
   "outputs": [
    {
     "data": {
      "text/plain": [
       "((29216,), (29216, 1))"
      ]
     },
     "execution_count": 61,
     "metadata": {},
     "output_type": "execute_result"
    }
   ],
   "source": [
    "y_test.shape, y_predint.shape"
   ]
  },
  {
   "cell_type": "code",
   "execution_count": 62,
   "id": "699e487b",
   "metadata": {},
   "outputs": [],
   "source": [
    "from sklearn.metrics import confusion_matrix, roc_curve, roc_auc_score, auc, classification_report"
   ]
  },
  {
   "cell_type": "code",
   "execution_count": 63,
   "id": "8e830bd0",
   "metadata": {},
   "outputs": [
    {
     "name": "stdout",
     "output_type": "stream",
     "text": [
      "[[    0  1969]\n",
      " [    0 27247]]\n"
     ]
    }
   ],
   "source": [
    "labels = [1, 0]\n",
    "con_mat = confusion_matrix(y_test, y_predint, labels=labels)\n",
    "print(con_mat)"
   ]
  },
  {
   "cell_type": "code",
   "execution_count": 64,
   "id": "8b813602",
   "metadata": {},
   "outputs": [
    {
     "data": {
      "text/plain": [
       "(29216, 10)"
      ]
     },
     "execution_count": 64,
     "metadata": {},
     "output_type": "execute_result"
    }
   ],
   "source": [
    "X_test.shape"
   ]
  },
  {
   "cell_type": "code",
   "execution_count": 65,
   "id": "94704e08",
   "metadata": {},
   "outputs": [
    {
     "name": "stderr",
     "output_type": "stream",
     "text": [
      "C:\\Users\\mahesh\\anaconda3\\lib\\site-packages\\tensorflow\\python\\keras\\engine\\sequential.py:430: UserWarning: `model.predict_proba()` is deprecated and will be removed after 2021-01-01. Please use `model.predict()` instead.\n",
      "  warnings.warn('`model.predict_proba()` is deprecated and '\n"
     ]
    },
    {
     "data": {
      "text/plain": [
       "(29216, 1)"
      ]
     },
     "execution_count": 65,
     "metadata": {},
     "output_type": "execute_result"
    }
   ],
   "source": [
    "probs = model.predict_proba(X_test)\n",
    "probs.shape"
   ]
  },
  {
   "cell_type": "code",
   "execution_count": 66,
   "id": "6002bb8b",
   "metadata": {},
   "outputs": [
    {
     "ename": "NameError",
     "evalue": "name 'preds' is not defined",
     "output_type": "error",
     "traceback": [
      "\u001b[1;31m---------------------------------------------------------------------------\u001b[0m",
      "\u001b[1;31mNameError\u001b[0m                                 Traceback (most recent call last)",
      "\u001b[1;32m<ipython-input-66-29d7a5a435d2>\u001b[0m in \u001b[0;36m<module>\u001b[1;34m\u001b[0m\n\u001b[1;32m----> 1\u001b[1;33m \u001b[0mpreds\u001b[0m\u001b[1;33m.\u001b[0m\u001b[0mshape\u001b[0m\u001b[1;33m\u001b[0m\u001b[1;33m\u001b[0m\u001b[0m\n\u001b[0m",
      "\u001b[1;31mNameError\u001b[0m: name 'preds' is not defined"
     ]
    }
   ],
   "source": [
    "preds.shape"
   ]
  },
  {
   "cell_type": "code",
   "execution_count": null,
   "id": "ec536a24",
   "metadata": {},
   "outputs": [],
   "source": [
    "from sklearn.metrics import precision_recall_curve\n",
    "probs = model.predict_proba(X_test)\n",
    "preds = probs[:,1]\n",
    "precision, recall, threshold = precision_recall_curve(y_test, preds)"
   ]
  },
  {
   "cell_type": "code",
   "execution_count": null,
   "id": "e9e7aeef",
   "metadata": {},
   "outputs": [],
   "source": []
  },
  {
   "cell_type": "code",
   "execution_count": null,
   "id": "2bf40b4e",
   "metadata": {},
   "outputs": [],
   "source": []
  },
  {
   "cell_type": "code",
   "execution_count": null,
   "id": "7c36d7d2",
   "metadata": {},
   "outputs": [],
   "source": []
  },
  {
   "cell_type": "code",
   "execution_count": null,
   "id": "2e319e49",
   "metadata": {},
   "outputs": [],
   "source": []
  },
  {
   "cell_type": "code",
   "execution_count": null,
   "id": "16e64f5d",
   "metadata": {},
   "outputs": [],
   "source": [
    "import matplotlib.pyplot as plt\n",
    "%matplotlib inline"
   ]
  },
  {
   "cell_type": "code",
   "execution_count": null,
   "id": "5610b3c0",
   "metadata": {},
   "outputs": [],
   "source": [
    "plt.title(\"Precision-Recall vs Threshold Chart\")\n",
    "plt.plot(threshold, precision[: -1], \"b--\", label=\"Precision\")\n",
    "plt.plot(threshold, recall[: -1], \"r--\", label=\"Recall\")\n",
    "plt.ylabel(\"Precision, Recall\")\n",
    "plt.xlabel(\"Threshold\")\n",
    "plt.legend(loc=\"best\")\n",
    "plt.ylim([0,1]) "
   ]
  },
  {
   "cell_type": "code",
   "execution_count": null,
   "id": "46b49942",
   "metadata": {},
   "outputs": [],
   "source": [
    "from sklearn.metrics import confusion_matrix, roc_curve, roc_auc_score, auc, classification_report\n"
   ]
  },
  {
   "cell_type": "code",
   "execution_count": null,
   "id": "3796de34",
   "metadata": {},
   "outputs": [],
   "source": [
    "##Computing false and true positive rates\n",
    "#fpr, tpr, threshold = roc_curve(y_test,result.predict_proba(X_test)[:,1],drop_intermediate=False)\n",
    "probs = model.predict_proba(X_test)\n",
    "preds = probs[:]\n",
    "fpr, tpr, threshold = roc_curve(y_test, preds, drop_intermediate=False, pos_label=1)\n",
    "roc_auc = auc(fpr, tpr)\n",
    "plt.figure()\n",
    "##Adding the ROC\n",
    "plt.plot(fpr, tpr, 'r', label = 'AUC = %0.2f' % roc_auc)\n",
    "##Random FPR and TPR\n",
    "plt.plot([0, 1], [0, 1], color='blue', lw=2, linestyle='--')\n",
    "##Title and label\n",
    "plt.legend(loc = 'lower right')\n",
    "plt.xlabel('FPR')\n",
    "plt.ylabel('TPR')\n",
    "plt.title('ROC curve')\n",
    "plt.show()"
   ]
  },
  {
   "cell_type": "code",
   "execution_count": null,
   "id": "ae885187",
   "metadata": {},
   "outputs": [],
   "source": [
    "y = y_test.values.reshape(len(y_test),1)"
   ]
  },
  {
   "cell_type": "code",
   "execution_count": null,
   "id": "76165c45",
   "metadata": {},
   "outputs": [],
   "source": [
    "predicted.dtype"
   ]
  },
  {
   "cell_type": "code",
   "execution_count": null,
   "id": "b7b4b976",
   "metadata": {},
   "outputs": [],
   "source": [
    "actual.dtype"
   ]
  },
  {
   "cell_type": "code",
   "execution_count": null,
   "id": "74bb5c6f",
   "metadata": {},
   "outputs": [],
   "source": [
    "actual = y\n",
    "predicted = y_pred.astype('int64')\n",
    "#results = confusion_matrix(actual, predicted) \n",
    "#print('Confusion Matrix :')\n",
    "#print(results) \n",
    "#print ('Accuracy Score :',accuracy_score(actual, predicted)) \n",
    "print ('Report : ')\n",
    "print (classification_report(actual, predicted))"
   ]
  },
  {
   "cell_type": "code",
   "execution_count": null,
   "id": "1b55ada7",
   "metadata": {},
   "outputs": [],
   "source": [
    "threshold = 0.6\n",
    "pred = np.where(model.predict_proba(X_test)[:,1] >= threshold, 1, 0)"
   ]
  },
  {
   "cell_type": "code",
   "execution_count": null,
   "id": "ee66e7dd",
   "metadata": {},
   "outputs": [],
   "source": [
    "labels = [1, 0]\n",
    "con_mat2 = confusion_matrix(y_test, pred, labels = labels )\n",
    "print(con_mat2)"
   ]
  },
  {
   "cell_type": "code",
   "execution_count": null,
   "id": "f5467531",
   "metadata": {},
   "outputs": [],
   "source": []
  },
  {
   "cell_type": "code",
   "execution_count": null,
   "id": "d249ed67",
   "metadata": {},
   "outputs": [],
   "source": [
    "\n"
   ]
  },
  {
   "cell_type": "markdown",
   "id": "3f90c3cd",
   "metadata": {},
   "source": [
    "import h5py\n",
    "def load_dataset():\n",
    "  train_data=h5py.File('train_happy.h5','r')\n",
    "  x_train=np.array(train_data['train_set_x'][:])\n",
    "  y_train=np.array(train_data['train_set_y'][:])\n",
    "  \n",
    "  test_data=h5py.File('test_happy.h5','r')\n",
    "  x_test = np.array(test_data[\"test_set_x\"][:])\n",
    "  y_test = np.array(test_data[\"test_set_y\"][:])\n",
    "  \n",
    "  y_train=y_train.reshape(1,y_train.shape[0])\n",
    "  y_test = y_test.reshape(1, y_test.shape[0])\n",
    "  \n",
    "  return x_train,y_train,x_test,y_test\n"
   ]
  },
  {
   "cell_type": "code",
   "execution_count": null,
   "id": "8ee88598",
   "metadata": {},
   "outputs": [],
   "source": []
  }
 ],
 "metadata": {
  "kernelspec": {
   "display_name": "Python 3 (ipykernel)",
   "language": "python",
   "name": "python3"
  },
  "language_info": {
   "codemirror_mode": {
    "name": "ipython",
    "version": 3
   },
   "file_extension": ".py",
   "mimetype": "text/x-python",
   "name": "python",
   "nbconvert_exporter": "python",
   "pygments_lexer": "ipython3",
   "version": "3.8.11"
  }
 },
 "nbformat": 4,
 "nbformat_minor": 5
}
